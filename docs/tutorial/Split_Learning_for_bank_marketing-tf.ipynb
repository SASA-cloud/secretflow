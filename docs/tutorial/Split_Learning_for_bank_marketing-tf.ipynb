{
 "cells": [
  {
   "cell_type": "markdown",
   "metadata": {},
   "source": [
    "# Split Learning—Bank Marketing"
   ]
  },
  {
   "cell_type": "markdown",
   "metadata": {},
   "source": [
    ">The following codes are demos only. It's **NOT for production** due to system security concerns, please **DO NOT** use it directly in production."
   ]
  },
  {
   "cell_type": "markdown",
   "metadata": {},
   "source": [
    "In this tutorial, we will use the bank's marketing model as an example to show how to accomplish split learning in vertical scenarios under the SecretFlow framework.\n",
    "SecretFlow provides a user-friendly Api that makes it easy to apply your Keras model or PyTorch model to split learning scenarios to complete joint modeling tasks for vertical scenarios.\n",
    "\n",
    "In this tutorial we will show you how to turn your existing 'Keras' model into a split learning model under Secretflow to complete federated multi-party modeling tasks."
   ]
  },
  {
   "cell_type": "markdown",
   "metadata": {},
   "source": [
    "## What is Split Learning？"
   ]
  },
  {
   "cell_type": "markdown",
   "metadata": {},
   "source": [
    "The core idea of split learning is to split the network structure. Each device (silo) retains only a part of the network structure, and the sub-network structure of all devices is combined together to form a complete network model. \n",
    "In the training process, different devices (silos) only perform forward or reverse calculation on the local network structure, and transfer the calculation results to the next device. Multiple devices complete the training through joint model until convergence.\n",
    "\n",
    " <img alt=\"split_learning_tutorial.png\" src=\"resources/split_learning_tutorial.png\" width=\"600\">  \n"
   ]
  },
  {
   "cell_type": "markdown",
   "metadata": {},
   "source": [
    "**Alice**：have *data\\_alice*，*model\\_base\\_alice*  \n",
    "**Bob**: have *data\\_bob*，*model\\_base\\_bob*，*model\\_fuse*  \n",
    "\n",
    "1. **Alice** uses its data to get *hidden0* through *model\\_base\\_Alice* and send it to Bob. \n",
    "2. **Bob** gets *hidden1* with its data through *model\\_base\\_bob*.\n",
    "3. *hidden\\_0* and *hidden\\_1* are input to the *AggLayer* for aggregation, and the aggregated *hidden\\_merge* is the output.\n",
    "4. **Bob** input *hidden\\_merge* to *model\\_fuse*, get the gradient with *label* and send it back.\n",
    "5. The gradient is split into two parts *g\\_0*, *g\\_1* through *AggLayer*, which are sent to **Alice** and **Bob** respectively.\n",
    "6. Then **Alice** and **Bob** update their local base net with *g\\_0* or *g\\_1*.\n"
   ]
  },
  {
   "cell_type": "markdown",
   "metadata": {},
   "source": [
    "## Task"
   ]
  },
  {
   "cell_type": "markdown",
   "metadata": {},
   "source": [
    "Marketing is the banking industry in the ever-changing market environment, to meet the needs of customers, to achieve business objectives of the overall operation and sales activities. In the current environment of big data, data analysis provides a more effective analysis means for the banking industry. Customer demand analysis, understanding of target market trends and more macro market strategies can provide the basis and direction.  \n",
    "  \n",
    "The data from [kaggle](https://www.kaggle.com/janiobachmann/bank-marketing-dataset) is a set of classic marketing data bank, is a Portuguese bank agency telephone direct marketing activities, The target variable is whether the customer subscribes to deposit product."
   ]
  },
  {
   "cell_type": "markdown",
   "metadata": {},
   "source": [
    "## Data\n",
    "\n",
    "1. The total sample size was 11162, including 8929 training set and 2233 test set.\n",
    "2. Feature dim is 16, target is binary classification.\n",
    "3. We have cut the data in advance. Alice holds the 4-dimensional basic attribute features, Bob holds the 12-dimensional bank transaction features, and only Alice holds the corresponding label."
   ]
  },
  {
   "cell_type": "markdown",
   "metadata": {},
   "source": [
    "Let's start by looking at what our bank's marketing data look like?  \n",
    "\n",
    "The original data is divided into Bank Alice and Bank Bob, which stores in Alice and Bob respectively. Here, CSV is the original data that has only been separated without pre-processing, we will use `secretflow preprocess` for FedData preprocess."
   ]
  },
  {
   "cell_type": "code",
   "execution_count": 1,
   "metadata": {},
   "outputs": [
    {
     "name": "stderr",
     "output_type": "stream",
     "text": [
      "/home/dengruijun/.conda/envs/drj-sf/lib/python3.10/site-packages/tqdm/auto.py:21: TqdmWarning: IProgress not found. Please update jupyter and ipywidgets. See https://ipywidgets.readthedocs.io/en/stable/user_install.html\n",
      "  from .autonotebook import tqdm as notebook_tqdm\n",
      "2024-07-18 13:02:35,946\tINFO util.py:154 -- Missing packages: ['ipywidgets']. Run `pip install -U ipywidgets`, then restart the notebook server for rich notebook output.\n"
     ]
    },
    {
     "name": "stdout",
     "output_type": "stream",
     "text": [
      "ok1\n"
     ]
    },
    {
     "name": "stderr",
     "output_type": "stream",
     "text": [
      "/home/dengruijun/.conda/envs/drj-sf/lib/python3.10/subprocess.py:1796: RuntimeWarning: os.fork() was called. os.fork() is incompatible with multithreaded code, and JAX is multithreaded, so this will likely lead to a deadlock.\n",
      "  self.pid = _posixsubprocess.fork_exec(\n",
      "2024-07-18 13:02:42,667\tINFO worker.py:1724 -- Started a local Ray instance.\n"
     ]
    },
    {
     "name": "stdout",
     "output_type": "stream",
     "text": [
      "ok2\n",
      "ok3\n"
     ]
    },
    {
     "name": "stderr",
     "output_type": "stream",
     "text": [
      "\u001b[36m(PartitionAgent pid=48415)\u001b[0m /home/dengruijun/.conda/envs/drj-sf/lib/python3.10/site-packages/sklearn/base.py:458: UserWarning: X has feature names, but MinMaxScaler was fitted without feature names\n",
      "\u001b[36m(PartitionAgent pid=48415)\u001b[0m   warnings.warn(\n"
     ]
    }
   ],
   "source": [
    "%load_ext autoreload  \n",
    "%autoreload 2\n",
    "\n",
    "# import os\n",
    "# os.environ['NUMEXPR_MAX_THREADS'] = '48'\n",
    "import secretflow as sf\n",
    "import matplotlib.pyplot as plt\n",
    "\n",
    "# import ray\n",
    "# ray.init(log_to_driver=True)\n",
    "\n",
    "print('ok1')\n",
    "# sf.init(['alice', 'bob'])\n",
    "sf.init(['alice', 'bob'], address='local')\n",
    "print('ok2')\n",
    "alice, bob = sf.PYU('alice'), sf.PYU('bob')\n",
    "print('ok3')"
   ]
  },
  {
   "cell_type": "markdown",
   "metadata": {},
   "source": [
    "### prepare data"
   ]
  },
  {
   "cell_type": "code",
   "execution_count": 2,
   "metadata": {},
   "outputs": [],
   "source": [
    "import pandas as pd\n",
    "from secretflow.utils.simulation.datasets import dataset\n",
    "\n",
    "df = pd.read_csv(dataset('bank_marketing'), sep=';')"
   ]
  },
  {
   "cell_type": "markdown",
   "metadata": {},
   "source": [
    "We assume that Alice is a new bank, and they only have the basic information of the user and purchased the label of financial products from other bank."
   ]
  },
  {
   "cell_type": "code",
   "execution_count": 3,
   "metadata": {},
   "outputs": [
    {
     "data": {
      "text/html": [
       "<div>\n",
       "<style scoped>\n",
       "    .dataframe tbody tr th:only-of-type {\n",
       "        vertical-align: middle;\n",
       "    }\n",
       "\n",
       "    .dataframe tbody tr th {\n",
       "        vertical-align: top;\n",
       "    }\n",
       "\n",
       "    .dataframe thead th {\n",
       "        text-align: right;\n",
       "    }\n",
       "</style>\n",
       "<table border=\"1\" class=\"dataframe\">\n",
       "  <thead>\n",
       "    <tr style=\"text-align: right;\">\n",
       "      <th></th>\n",
       "      <th>age</th>\n",
       "      <th>job</th>\n",
       "      <th>marital</th>\n",
       "      <th>education</th>\n",
       "      <th>y</th>\n",
       "    </tr>\n",
       "  </thead>\n",
       "  <tbody>\n",
       "    <tr>\n",
       "      <th>0</th>\n",
       "      <td>30</td>\n",
       "      <td>unemployed</td>\n",
       "      <td>married</td>\n",
       "      <td>primary</td>\n",
       "      <td>no</td>\n",
       "    </tr>\n",
       "    <tr>\n",
       "      <th>1</th>\n",
       "      <td>33</td>\n",
       "      <td>services</td>\n",
       "      <td>married</td>\n",
       "      <td>secondary</td>\n",
       "      <td>no</td>\n",
       "    </tr>\n",
       "    <tr>\n",
       "      <th>2</th>\n",
       "      <td>35</td>\n",
       "      <td>management</td>\n",
       "      <td>single</td>\n",
       "      <td>tertiary</td>\n",
       "      <td>no</td>\n",
       "    </tr>\n",
       "    <tr>\n",
       "      <th>3</th>\n",
       "      <td>30</td>\n",
       "      <td>management</td>\n",
       "      <td>married</td>\n",
       "      <td>tertiary</td>\n",
       "      <td>no</td>\n",
       "    </tr>\n",
       "    <tr>\n",
       "      <th>4</th>\n",
       "      <td>59</td>\n",
       "      <td>blue-collar</td>\n",
       "      <td>married</td>\n",
       "      <td>secondary</td>\n",
       "      <td>no</td>\n",
       "    </tr>\n",
       "    <tr>\n",
       "      <th>...</th>\n",
       "      <td>...</td>\n",
       "      <td>...</td>\n",
       "      <td>...</td>\n",
       "      <td>...</td>\n",
       "      <td>...</td>\n",
       "    </tr>\n",
       "    <tr>\n",
       "      <th>4516</th>\n",
       "      <td>33</td>\n",
       "      <td>services</td>\n",
       "      <td>married</td>\n",
       "      <td>secondary</td>\n",
       "      <td>no</td>\n",
       "    </tr>\n",
       "    <tr>\n",
       "      <th>4517</th>\n",
       "      <td>57</td>\n",
       "      <td>self-employed</td>\n",
       "      <td>married</td>\n",
       "      <td>tertiary</td>\n",
       "      <td>no</td>\n",
       "    </tr>\n",
       "    <tr>\n",
       "      <th>4518</th>\n",
       "      <td>57</td>\n",
       "      <td>technician</td>\n",
       "      <td>married</td>\n",
       "      <td>secondary</td>\n",
       "      <td>no</td>\n",
       "    </tr>\n",
       "    <tr>\n",
       "      <th>4519</th>\n",
       "      <td>28</td>\n",
       "      <td>blue-collar</td>\n",
       "      <td>married</td>\n",
       "      <td>secondary</td>\n",
       "      <td>no</td>\n",
       "    </tr>\n",
       "    <tr>\n",
       "      <th>4520</th>\n",
       "      <td>44</td>\n",
       "      <td>entrepreneur</td>\n",
       "      <td>single</td>\n",
       "      <td>tertiary</td>\n",
       "      <td>no</td>\n",
       "    </tr>\n",
       "  </tbody>\n",
       "</table>\n",
       "<p>4521 rows × 5 columns</p>\n",
       "</div>"
      ],
      "text/plain": [
       "      age            job  marital  education   y\n",
       "0      30     unemployed  married    primary  no\n",
       "1      33       services  married  secondary  no\n",
       "2      35     management   single   tertiary  no\n",
       "3      30     management  married   tertiary  no\n",
       "4      59    blue-collar  married  secondary  no\n",
       "...   ...            ...      ...        ...  ..\n",
       "4516   33       services  married  secondary  no\n",
       "4517   57  self-employed  married   tertiary  no\n",
       "4518   57     technician  married  secondary  no\n",
       "4519   28    blue-collar  married  secondary  no\n",
       "4520   44   entrepreneur   single   tertiary  no\n",
       "\n",
       "[4521 rows x 5 columns]"
      ]
     },
     "execution_count": 3,
     "metadata": {},
     "output_type": "execute_result"
    }
   ],
   "source": [
    "alice_data = df[[\"age\", \"job\", \"marital\", \"education\", \"y\"]]\n",
    "alice_data"
   ]
  },
  {
   "cell_type": "markdown",
   "metadata": {},
   "source": [
    "Bob is an old bank, they have the user's account balance, house, loan, and recent marketing feedback."
   ]
  },
  {
   "cell_type": "code",
   "execution_count": 4,
   "metadata": {},
   "outputs": [
    {
     "data": {
      "text/html": [
       "<div>\n",
       "<style scoped>\n",
       "    .dataframe tbody tr th:only-of-type {\n",
       "        vertical-align: middle;\n",
       "    }\n",
       "\n",
       "    .dataframe tbody tr th {\n",
       "        vertical-align: top;\n",
       "    }\n",
       "\n",
       "    .dataframe thead th {\n",
       "        text-align: right;\n",
       "    }\n",
       "</style>\n",
       "<table border=\"1\" class=\"dataframe\">\n",
       "  <thead>\n",
       "    <tr style=\"text-align: right;\">\n",
       "      <th></th>\n",
       "      <th>default</th>\n",
       "      <th>balance</th>\n",
       "      <th>housing</th>\n",
       "      <th>loan</th>\n",
       "      <th>contact</th>\n",
       "      <th>day</th>\n",
       "      <th>month</th>\n",
       "      <th>duration</th>\n",
       "      <th>campaign</th>\n",
       "      <th>pdays</th>\n",
       "      <th>previous</th>\n",
       "      <th>poutcome</th>\n",
       "    </tr>\n",
       "  </thead>\n",
       "  <tbody>\n",
       "    <tr>\n",
       "      <th>0</th>\n",
       "      <td>no</td>\n",
       "      <td>1787</td>\n",
       "      <td>no</td>\n",
       "      <td>no</td>\n",
       "      <td>cellular</td>\n",
       "      <td>19</td>\n",
       "      <td>oct</td>\n",
       "      <td>79</td>\n",
       "      <td>1</td>\n",
       "      <td>-1</td>\n",
       "      <td>0</td>\n",
       "      <td>unknown</td>\n",
       "    </tr>\n",
       "    <tr>\n",
       "      <th>1</th>\n",
       "      <td>no</td>\n",
       "      <td>4789</td>\n",
       "      <td>yes</td>\n",
       "      <td>yes</td>\n",
       "      <td>cellular</td>\n",
       "      <td>11</td>\n",
       "      <td>may</td>\n",
       "      <td>220</td>\n",
       "      <td>1</td>\n",
       "      <td>339</td>\n",
       "      <td>4</td>\n",
       "      <td>failure</td>\n",
       "    </tr>\n",
       "    <tr>\n",
       "      <th>2</th>\n",
       "      <td>no</td>\n",
       "      <td>1350</td>\n",
       "      <td>yes</td>\n",
       "      <td>no</td>\n",
       "      <td>cellular</td>\n",
       "      <td>16</td>\n",
       "      <td>apr</td>\n",
       "      <td>185</td>\n",
       "      <td>1</td>\n",
       "      <td>330</td>\n",
       "      <td>1</td>\n",
       "      <td>failure</td>\n",
       "    </tr>\n",
       "    <tr>\n",
       "      <th>3</th>\n",
       "      <td>no</td>\n",
       "      <td>1476</td>\n",
       "      <td>yes</td>\n",
       "      <td>yes</td>\n",
       "      <td>unknown</td>\n",
       "      <td>3</td>\n",
       "      <td>jun</td>\n",
       "      <td>199</td>\n",
       "      <td>4</td>\n",
       "      <td>-1</td>\n",
       "      <td>0</td>\n",
       "      <td>unknown</td>\n",
       "    </tr>\n",
       "    <tr>\n",
       "      <th>4</th>\n",
       "      <td>no</td>\n",
       "      <td>0</td>\n",
       "      <td>yes</td>\n",
       "      <td>no</td>\n",
       "      <td>unknown</td>\n",
       "      <td>5</td>\n",
       "      <td>may</td>\n",
       "      <td>226</td>\n",
       "      <td>1</td>\n",
       "      <td>-1</td>\n",
       "      <td>0</td>\n",
       "      <td>unknown</td>\n",
       "    </tr>\n",
       "    <tr>\n",
       "      <th>...</th>\n",
       "      <td>...</td>\n",
       "      <td>...</td>\n",
       "      <td>...</td>\n",
       "      <td>...</td>\n",
       "      <td>...</td>\n",
       "      <td>...</td>\n",
       "      <td>...</td>\n",
       "      <td>...</td>\n",
       "      <td>...</td>\n",
       "      <td>...</td>\n",
       "      <td>...</td>\n",
       "      <td>...</td>\n",
       "    </tr>\n",
       "    <tr>\n",
       "      <th>4516</th>\n",
       "      <td>no</td>\n",
       "      <td>-333</td>\n",
       "      <td>yes</td>\n",
       "      <td>no</td>\n",
       "      <td>cellular</td>\n",
       "      <td>30</td>\n",
       "      <td>jul</td>\n",
       "      <td>329</td>\n",
       "      <td>5</td>\n",
       "      <td>-1</td>\n",
       "      <td>0</td>\n",
       "      <td>unknown</td>\n",
       "    </tr>\n",
       "    <tr>\n",
       "      <th>4517</th>\n",
       "      <td>yes</td>\n",
       "      <td>-3313</td>\n",
       "      <td>yes</td>\n",
       "      <td>yes</td>\n",
       "      <td>unknown</td>\n",
       "      <td>9</td>\n",
       "      <td>may</td>\n",
       "      <td>153</td>\n",
       "      <td>1</td>\n",
       "      <td>-1</td>\n",
       "      <td>0</td>\n",
       "      <td>unknown</td>\n",
       "    </tr>\n",
       "    <tr>\n",
       "      <th>4518</th>\n",
       "      <td>no</td>\n",
       "      <td>295</td>\n",
       "      <td>no</td>\n",
       "      <td>no</td>\n",
       "      <td>cellular</td>\n",
       "      <td>19</td>\n",
       "      <td>aug</td>\n",
       "      <td>151</td>\n",
       "      <td>11</td>\n",
       "      <td>-1</td>\n",
       "      <td>0</td>\n",
       "      <td>unknown</td>\n",
       "    </tr>\n",
       "    <tr>\n",
       "      <th>4519</th>\n",
       "      <td>no</td>\n",
       "      <td>1137</td>\n",
       "      <td>no</td>\n",
       "      <td>no</td>\n",
       "      <td>cellular</td>\n",
       "      <td>6</td>\n",
       "      <td>feb</td>\n",
       "      <td>129</td>\n",
       "      <td>4</td>\n",
       "      <td>211</td>\n",
       "      <td>3</td>\n",
       "      <td>other</td>\n",
       "    </tr>\n",
       "    <tr>\n",
       "      <th>4520</th>\n",
       "      <td>no</td>\n",
       "      <td>1136</td>\n",
       "      <td>yes</td>\n",
       "      <td>yes</td>\n",
       "      <td>cellular</td>\n",
       "      <td>3</td>\n",
       "      <td>apr</td>\n",
       "      <td>345</td>\n",
       "      <td>2</td>\n",
       "      <td>249</td>\n",
       "      <td>7</td>\n",
       "      <td>other</td>\n",
       "    </tr>\n",
       "  </tbody>\n",
       "</table>\n",
       "<p>4521 rows × 12 columns</p>\n",
       "</div>"
      ],
      "text/plain": [
       "     default  balance housing loan   contact  day month  duration  campaign  \\\n",
       "0         no     1787      no   no  cellular   19   oct        79         1   \n",
       "1         no     4789     yes  yes  cellular   11   may       220         1   \n",
       "2         no     1350     yes   no  cellular   16   apr       185         1   \n",
       "3         no     1476     yes  yes   unknown    3   jun       199         4   \n",
       "4         no        0     yes   no   unknown    5   may       226         1   \n",
       "...      ...      ...     ...  ...       ...  ...   ...       ...       ...   \n",
       "4516      no     -333     yes   no  cellular   30   jul       329         5   \n",
       "4517     yes    -3313     yes  yes   unknown    9   may       153         1   \n",
       "4518      no      295      no   no  cellular   19   aug       151        11   \n",
       "4519      no     1137      no   no  cellular    6   feb       129         4   \n",
       "4520      no     1136     yes  yes  cellular    3   apr       345         2   \n",
       "\n",
       "      pdays  previous poutcome  \n",
       "0        -1         0  unknown  \n",
       "1       339         4  failure  \n",
       "2       330         1  failure  \n",
       "3        -1         0  unknown  \n",
       "4        -1         0  unknown  \n",
       "...     ...       ...      ...  \n",
       "4516     -1         0  unknown  \n",
       "4517     -1         0  unknown  \n",
       "4518     -1         0  unknown  \n",
       "4519    211         3    other  \n",
       "4520    249         7    other  \n",
       "\n",
       "[4521 rows x 12 columns]"
      ]
     },
     "execution_count": 4,
     "metadata": {},
     "output_type": "execute_result"
    }
   ],
   "source": [
    "bob_data = df[\n",
    "    [\n",
    "        \"default\",\n",
    "        \"balance\",\n",
    "        \"housing\",\n",
    "        \"loan\",\n",
    "        \"contact\",\n",
    "        \"day\",\n",
    "        \"month\",\n",
    "        \"duration\",\n",
    "        \"campaign\",\n",
    "        \"pdays\",\n",
    "        \"previous\",\n",
    "        \"poutcome\",\n",
    "    ]\n",
    "]\n",
    "bob_data"
   ]
  },
  {
   "cell_type": "markdown",
   "metadata": {},
   "source": [
    "## Create Secretflow Environment"
   ]
  },
  {
   "cell_type": "markdown",
   "metadata": {},
   "source": [
    "Create 2 entities in the Secretflow environment [Alice, Bob]  \n",
    "Where 'Alice' and 'Bob' are two `PYU`.  \n",
    "Once you've constructed the two objects, you can happily start Splitting Learning."
   ]
  },
  {
   "cell_type": "markdown",
   "metadata": {},
   "source": [
    "### Import Dependency"
   ]
  },
  {
   "cell_type": "code",
   "execution_count": 5,
   "metadata": {},
   "outputs": [],
   "source": [
    "from secretflow.data.split import train_test_split\n",
    "from secretflow.ml.nn import SLModel"
   ]
  },
  {
   "cell_type": "markdown",
   "metadata": {},
   "source": [
    "## Prepare Data"
   ]
  },
  {
   "cell_type": "markdown",
   "metadata": {},
   "source": [
    "**Build Federated Table**\n",
    "\n",
    "\n",
    "Federated table is a virtual concept that cross multiple parties, We define `VDataFrame` for vertical setting\n",
    ".  \n",
    "\n",
    "1. The data of all parties in a federated table is stored locally and is not allowed to go out of the domain.\n",
    "\n",
    "2. No one has access to data store except the party that owns the data.\n",
    "\n",
    "3. Any operation performed on the federated table is scheduled by the driver to each worker, and the execution instructions are delivered layer by layer until the Python runtime of the specific worker. The framework ensures that only the worker with `worker.device` equal to the `Object.device` can operate on the data.\n",
    "\n",
    "4. Federated tables are designed for managing and manipulating multi-party data from a central perspective.\n",
    "\n",
    "5. Interfaces to `Federated Tables` are aligned to `pandas.DataFrame` to reduce the cost of multi-party data operations.\n",
    "\n",
    "6. The SecretFlow framework provides Plain&Ciphertext hybrid programming capabilities. Vertical federated tables are built using `SPU`, and `MPC-PSI` is used to safely get intersection and align data from all parties.\n",
    "\n",
    "<img alt=\"vdataframe.png\" src=\"resources/vdataframe.png\" width=\"600\">  \n",
    "\n"
   ]
  },
  {
   "cell_type": "markdown",
   "metadata": {},
   "source": [
    "VDataFrame provides `read_csv` interface similar to pandas, the difference is that `secretflow.read_csv` receives a dictionary that defines the path of data for both parties. We can use `secretflow.vertical.read_csv` to build the `VDataFrame`.\n",
    "```\n",
    "read_csv(file_dict,delimiter,ppu,keys,drop_key)\n",
    "    filepath: Path of the participant file. The address can be a relative or absolute path to a local file\n",
    "    spu: SPU Device for PSI; If this parameter is not specified, data must be prealigned\n",
    "    keys: Key for intersection.\n",
    "```"
   ]
  },
  {
   "cell_type": "markdown",
   "metadata": {},
   "source": [
    "Create spu object"
   ]
  },
  {
   "cell_type": "code",
   "execution_count": 6,
   "metadata": {},
   "outputs": [],
   "source": [
    "spu = sf.SPU(sf.utils.testing.cluster_def(['alice', 'bob']))"
   ]
  },
  {
   "cell_type": "code",
   "execution_count": 7,
   "metadata": {},
   "outputs": [
    {
     "name": "stderr",
     "output_type": "stream",
     "text": [
      "INFO:root:Create proxy actor <class 'secretflow.data.core.agent.PartitionAgent'> with party alice.\n",
      "INFO:root:Create proxy actor <class 'secretflow.data.core.agent.PartitionAgent'> with party bob.\n",
      "INFO:root:Create proxy actor <class 'secretflow.data.core.agent.PartitionAgent'> with party alice.\n"
     ]
    }
   ],
   "source": [
    "# 分割alice和bob的数据集的schema（不是数据集本身）\n",
    "\n",
    "from secretflow.utils.simulation.datasets import load_bank_marketing\n",
    "\n",
    "# Alice has the first four features,\n",
    "# while bob has the left features\n",
    "data = load_bank_marketing(parts={alice: (0, 4), bob: (4, 16)}, axis=1)\n",
    "# Alice holds the label.\n",
    "label = load_bank_marketing(parts={alice: (16, 17)}, axis=1)"
   ]
  },
  {
   "cell_type": "markdown",
   "metadata": {},
   "source": [
    "`data` is a vertically federated table. It only has the `Schema` of all the data globally."
   ]
  },
  {
   "cell_type": "markdown",
   "metadata": {},
   "source": [
    "Let's examine the data management of `VDF` more closely.\n",
    "\n",
    "As shown in the example, the `age` field belongs to `Alice`, so the corresponding column can be obtained from `Alice`'s partition. However, if `Bob` tries to obtain the `age` field, a `KeyError` error will be reported.\n",
    "\n",
    "We have a concept called Partition, which is a defined data fragment. Each partition has its own device to which it belongs, and only the device to which it belongs can operate on its data."
   ]
  },
  {
   "cell_type": "code",
   "execution_count": 8,
   "metadata": {},
   "outputs": [
    {
     "data": {
      "text/plain": [
       "<secretflow.device.device.pyu.PYUObject at 0x7f97ec1be080>"
      ]
     },
     "execution_count": 8,
     "metadata": {},
     "output_type": "execute_result"
    }
   ],
   "source": [
    "data['age'].partitions[alice].data"
   ]
  },
  {
   "cell_type": "code",
   "execution_count": 9,
   "metadata": {},
   "outputs": [],
   "source": [
    "# You can uncomment this and you will get a KeyError.\n",
    "# data['age'].partitions[bob]"
   ]
  },
  {
   "cell_type": "markdown",
   "metadata": {},
   "source": [
    "Next, we perform data preprocessing on the `VDataFrame`.   \n",
    "We use LabelEncoder and MinMaxScaler as examples. These two preprocessing functions have corresponding concepts in SkLearn, and their usage methods are similar to those in **sklearn**."
   ]
  },
  {
   "cell_type": "code",
   "execution_count": 10,
   "metadata": {},
   "outputs": [],
   "source": [
    "from secretflow.preprocessing.scaler import MinMaxScaler\n",
    "from secretflow.preprocessing.encoder import LabelEncoder"
   ]
  },
  {
   "cell_type": "code",
   "execution_count": 11,
   "metadata": {},
   "outputs": [],
   "source": [
    "# 类别类编码\n",
    "encoder = LabelEncoder()\n",
    "data['job'] = encoder.fit_transform(data['job'])\n",
    "data['marital'] = encoder.fit_transform(data['marital'])\n",
    "data['education'] = encoder.fit_transform(data['education'])\n",
    "data['default'] = encoder.fit_transform(data['default'])\n",
    "data['housing'] = encoder.fit_transform(data['housing'])\n",
    "data['loan'] = encoder.fit_transform(data['loan'])\n",
    "data['contact'] = encoder.fit_transform(data['contact'])\n",
    "data['poutcome'] = encoder.fit_transform(data['poutcome'])\n",
    "data['month'] = encoder.fit_transform(data['month'])\n",
    "label = encoder.fit_transform(label)"
   ]
  },
  {
   "cell_type": "code",
   "execution_count": 12,
   "metadata": {},
   "outputs": [
    {
     "name": "stdout",
     "output_type": "stream",
     "text": [
      "label= <class 'secretflow.data.vertical.dataframe.VDataFrame'>,\n",
      "data = <class 'secretflow.data.vertical.dataframe.VDataFrame'>\n"
     ]
    }
   ],
   "source": [
    "print(f\"label= {type(label)},\\ndata = {type(data)}\")"
   ]
  },
  {
   "cell_type": "markdown",
   "metadata": {},
   "source": [
    "Standardize data via MinMaxScaler"
   ]
  },
  {
   "cell_type": "code",
   "execution_count": 13,
   "metadata": {},
   "outputs": [],
   "source": [
    "scaler = MinMaxScaler()\n",
    "\n",
    "data = scaler.fit_transform(data)"
   ]
  },
  {
   "cell_type": "markdown",
   "metadata": {},
   "source": [
    "Next we divide the data set into train-set and test-set."
   ]
  },
  {
   "cell_type": "code",
   "execution_count": 14,
   "metadata": {},
   "outputs": [],
   "source": [
    "from secretflow.data.split import train_test_split\n",
    "\n",
    "random_state = 1234\n",
    "train_data, test_data = train_test_split(\n",
    "    data, train_size=0.8, random_state=random_state\n",
    ")\n",
    "train_label, test_label = train_test_split(\n",
    "    label, train_size=0.8, random_state=random_state\n",
    ")"
   ]
  },
  {
   "cell_type": "markdown",
   "metadata": {},
   "source": [
    "**Summary:** At this stage, we have finished defining `federated tables`, performing `data preprocessing`, and partitioning the `training set` and `test set`.\n",
    "The secretFlow framework defines a set of operations to be built on the federated table (which is the logical counterpart of `pandas.DataFrame`). The secretflow framework defines a set of operations to be built on the federated table (its logical counterpart is `sklearn`) Refer to our documentation and API introduction to learn more about other features."
   ]
  },
  {
   "cell_type": "markdown",
   "metadata": {},
   "source": [
    "## Introduce Model"
   ]
  },
  {
   "cell_type": "markdown",
   "metadata": {},
   "source": [
    "**local version**: \n",
    "For this task, a simple DNN can be trained to take in 16-dimensional features, process them through a neural network, and output the probability of positive and negative samples.\n",
    "\n",
    "\n",
    "**Federate version**:  \n",
    "\n",
    "* Alice:  \n",
    "\n",
    "    - base_net: Input 4-dimensional feature and go through a DNN network to get hidden.  \n",
    "    \n",
    "    - fuse_net: Receive hidden features calculated by Alice and Bob, input them to fusenet for feature fusion, and complete the forward process and backward process.  \n",
    "    \n",
    "* Bob:  \n",
    "\n",
    "    - base_net: Input 12-dimensional features, get hidden through a DNN network, and then send hidden to Alice to complete the following operation.  \n"
   ]
  },
  {
   "cell_type": "markdown",
   "metadata": {},
   "source": [
    "### Define Model"
   ]
  },
  {
   "cell_type": "markdown",
   "metadata": {},
   "source": [
    "Next, we will start creating the federated model.  \n",
    "\n",
    "We have defined the SLTFModel and SLTorchModel, which are used to build split learning for vertically partitioned data. We have also created a simple and easy-to-use extensible interface, allowing you to easily transform your existing model into an SF-Model and perform vertically partitioned federated modeling."
   ]
  },
  {
   "cell_type": "markdown",
   "metadata": {},
   "source": [
    "Split learning is to break up a model so that one part is executed locally on the data and the other part is executed on the label side.\n",
    "First let's define the locally executed model -- base_model."
   ]
  },
  {
   "cell_type": "code",
   "execution_count": 14,
   "metadata": {},
   "outputs": [],
   "source": [
    "def create_base_model(input_dim, output_dim, name='base_model'):\n",
    "    # Create model\n",
    "    def create_model():\n",
    "        from tensorflow import keras\n",
    "        from tensorflow.keras import layers\n",
    "        import tensorflow as tf\n",
    "\n",
    "        model = keras.Sequential(\n",
    "            [\n",
    "                keras.Input(shape=input_dim),\n",
    "                layers.Dense(100, activation=\"relu\"),\n",
    "                layers.Dense(output_dim, activation=\"relu\"),\n",
    "            ]\n",
    "        )\n",
    "        \n",
    "        # Compile model\n",
    "        model.summary()\n",
    "        model.compile(\n",
    "            loss='binary_crossentropy',\n",
    "            optimizer='adam',\n",
    "            metrics=[\"accuracy\", tf.keras.metrics.AUC()],\n",
    "        )\n",
    "        return model\n",
    "\n",
    "    return create_model"
   ]
  },
  {
   "cell_type": "markdown",
   "metadata": {},
   "source": [
    "We use create_base_model to create their base models for 'Alice' and 'Bob', respectively."
   ]
  },
  {
   "cell_type": "code",
   "execution_count": 15,
   "metadata": {},
   "outputs": [],
   "source": [
    "# prepare model\n",
    "hidden_size = 64\n",
    "\n",
    "model_base_alice = create_base_model(4, hidden_size)\n",
    "model_base_bob = create_base_model(12, hidden_size)"
   ]
  },
  {
   "cell_type": "code",
   "execution_count": 16,
   "metadata": {},
   "outputs": [
    {
     "name": "stderr",
     "output_type": "stream",
     "text": [
      "2024-07-15 17:12:33.732105: W tensorflow/compiler/tf2tensorrt/utils/py_utils.cc:38] TF-TRT Warning: Could not find TensorRT\n"
     ]
    },
    {
     "name": "stdout",
     "output_type": "stream",
     "text": [
      "Model: \"sequential\"\n",
      "_________________________________________________________________\n",
      " Layer (type)                Output Shape              Param #   \n",
      "=================================================================\n",
      " dense (Dense)               (None, 100)               500       \n",
      "                                                                 \n",
      " dense_1 (Dense)             (None, 64)                6464      \n",
      "                                                                 \n",
      "=================================================================\n",
      "Total params: 6,964\n",
      "Trainable params: 6,964\n",
      "Non-trainable params: 0\n",
      "_________________________________________________________________\n",
      "Model: \"sequential_1\"\n",
      "_________________________________________________________________\n",
      " Layer (type)                Output Shape              Param #   \n",
      "=================================================================\n",
      " dense_2 (Dense)             (None, 100)               1300      \n",
      "                                                                 \n",
      " dense_3 (Dense)             (None, 64)                6464      \n",
      "                                                                 \n",
      "=================================================================\n",
      "Total params: 7,764\n",
      "Trainable params: 7,764\n",
      "Non-trainable params: 0\n",
      "_________________________________________________________________\n"
     ]
    },
    {
     "name": "stderr",
     "output_type": "stream",
     "text": [
      "2024-07-15 17:12:34.770119: W tensorflow/core/common_runtime/gpu/gpu_device.cc:1956] Cannot dlopen some GPU libraries. Please make sure the missing libraries mentioned above are installed properly if you would like to use GPU. Follow the guide at https://www.tensorflow.org/install/gpu for how to download and setup the required libraries for your platform.\n",
      "Skipping registering GPU devices...\n"
     ]
    },
    {
     "data": {
      "text/plain": [
       "<keras.engine.sequential.Sequential at 0x7faa12f5e920>"
      ]
     },
     "execution_count": 16,
     "metadata": {},
     "output_type": "execute_result"
    }
   ],
   "source": [
    "model_base_alice()\n",
    "model_base_bob()"
   ]
  },
  {
   "cell_type": "markdown",
   "metadata": {},
   "source": [
    "Next we define the side with the label, or the server-side model -- fuse_model\n",
    "In the definition of fuse_model, we need to correctly define `loss`, `optimizer`, and `metrics`. This is compatible with all configurations of your existing Keras model."
   ]
  },
  {
   "cell_type": "code",
   "execution_count": 17,
   "metadata": {},
   "outputs": [],
   "source": [
    "def create_fuse_model(input_dim, output_dim, party_nums, name='fuse_model'):\n",
    "    def create_model():\n",
    "        from tensorflow import keras\n",
    "        from tensorflow.keras import layers\n",
    "        import tensorflow as tf\n",
    "\n",
    "        # input\n",
    "        input_layers = []\n",
    "        for i in range(party_nums):\n",
    "            input_layers.append(\n",
    "                keras.Input(\n",
    "                    input_dim,\n",
    "                )\n",
    "            )\n",
    "\n",
    "        merged_layer = layers.concatenate(input_layers)\n",
    "        fuse_layer = layers.Dense(64, activation='relu')(merged_layer)\n",
    "        output = layers.Dense(output_dim, activation='sigmoid')(fuse_layer)\n",
    "\n",
    "        model = keras.Model(inputs=input_layers, outputs=output)\n",
    "        model.summary()\n",
    "\n",
    "        model.compile(\n",
    "            loss='binary_crossentropy',\n",
    "            optimizer='adam',\n",
    "            metrics=[\"accuracy\", tf.keras.metrics.AUC()],\n",
    "        )\n",
    "        return model\n",
    "\n",
    "    return create_model"
   ]
  },
  {
   "cell_type": "code",
   "execution_count": 18,
   "metadata": {},
   "outputs": [],
   "source": [
    "model_fuse = create_fuse_model(input_dim=hidden_size, party_nums=2, output_dim=1)"
   ]
  },
  {
   "cell_type": "code",
   "execution_count": 19,
   "metadata": {},
   "outputs": [
    {
     "name": "stdout",
     "output_type": "stream",
     "text": [
      "Model: \"model\"\n",
      "__________________________________________________________________________________________________\n",
      " Layer (type)                   Output Shape         Param #     Connected to                     \n",
      "==================================================================================================\n",
      " input_3 (InputLayer)           [(None, 64)]         0           []                               \n",
      "                                                                                                  \n",
      " input_4 (InputLayer)           [(None, 64)]         0           []                               \n",
      "                                                                                                  \n",
      " concatenate (Concatenate)      (None, 128)          0           ['input_3[0][0]',                \n",
      "                                                                  'input_4[0][0]']                \n",
      "                                                                                                  \n",
      " dense_4 (Dense)                (None, 64)           8256        ['concatenate[0][0]']            \n",
      "                                                                                                  \n",
      " dense_5 (Dense)                (None, 1)            65          ['dense_4[0][0]']                \n",
      "                                                                                                  \n",
      "==================================================================================================\n",
      "Total params: 8,321\n",
      "Trainable params: 8,321\n",
      "Non-trainable params: 0\n",
      "__________________________________________________________________________________________________\n"
     ]
    },
    {
     "data": {
      "text/plain": [
       "<keras.engine.functional.Functional at 0x7faa103292d0>"
      ]
     },
     "execution_count": 19,
     "metadata": {},
     "output_type": "execute_result"
    }
   ],
   "source": [
    "model_fuse()"
   ]
  },
  {
   "cell_type": "markdown",
   "metadata": {},
   "source": [
    "### Create Split Learning Model  \n",
    "Secretflow provides the split learning model `SLModel`.  \n",
    "To initial SLModel only need 3 parameters.  \n",
    "\n",
    "* base_model_dict: A dictionary needs to be passed in all clients participating in the training along with base_model mappings  \n",
    "* device_y: PYU, which device has label  \n",
    "* model_fuse: The fusion model  "
   ]
  },
  {
   "cell_type": "markdown",
   "metadata": {},
   "source": [
    "Define base_model_dict.  \n",
    "```python\n",
    "base_model_dict:Dict[PYU,model_fn]\n",
    "```"
   ]
  },
  {
   "cell_type": "code",
   "execution_count": 20,
   "metadata": {},
   "outputs": [],
   "source": [
    "base_model_dict = {alice: model_base_alice, bob: model_base_bob}"
   ]
  },
  {
   "cell_type": "code",
   "execution_count": 21,
   "metadata": {},
   "outputs": [],
   "source": [
    "# 用了差分隐私机制\n",
    "from secretflow.security.privacy import DPStrategy, LabelDP\n",
    "from secretflow.security.privacy.mechanism.tensorflow import GaussianEmbeddingDP \n",
    "\n",
    "# Define DP operations\n",
    "train_batch_size = 128 # batch size 但是， 那个tqdm现实112-113， 总的数据量为3616\n",
    "gaussian_embedding_dp = GaussianEmbeddingDP(\n",
    "    noise_multiplier=0.5,\n",
    "    l2_norm_clip=1.0,\n",
    "    batch_size=train_batch_size,\n",
    "    num_samples=train_data.values.partition_shape()[alice][0],\n",
    "    is_secure_generator=False,\n",
    ")\n",
    "label_dp = LabelDP(eps=64.0)\n",
    "dp_strategy_alice = DPStrategy(label_dp=label_dp)\n",
    "dp_strategy_bob = DPStrategy(embedding_dp=gaussian_embedding_dp)\n",
    "dp_strategy_dict = {alice: dp_strategy_alice, bob: dp_strategy_bob}\n",
    "dp_spent_step_freq = 10"
   ]
  },
  {
   "cell_type": "code",
   "execution_count": 22,
   "metadata": {},
   "outputs": [
    {
     "name": "stderr",
     "output_type": "stream",
     "text": [
      "INFO:root:Create proxy actor <class 'secretflow.ml.nn.sl.backend.tensorflow.sl_base.PYUSLTFModel'> with party alice.\n",
      "INFO:root:Create proxy actor <class 'secretflow.ml.nn.sl.backend.tensorflow.sl_base.PYUSLTFModel'> with party bob.\n"
     ]
    }
   ],
   "source": [
    "# SL框架\n",
    "sl_model = SLModel(\n",
    "    base_model_dict=base_model_dict,\n",
    "    device_y=alice,\n",
    "    model_fuse=model_fuse,\n",
    "    dp_strategy_dict=dp_strategy_dict,\n",
    ")"
   ]
  },
  {
   "cell_type": "code",
   "execution_count": 23,
   "metadata": {},
   "outputs": [
    {
     "data": {
      "text/plain": [
       "(           age       job  marital  education\n",
       " 1426  0.279412  0.181818      0.5   0.333333\n",
       " 416   0.176471  0.636364      1.0   0.333333\n",
       " 3977  0.264706  0.000000      0.5   0.666667\n",
       " 2291  0.338235  0.000000      0.5   0.333333\n",
       " 257   0.132353  0.909091      1.0   0.333333\n",
       " ...        ...       ...      ...        ...\n",
       " 1508  0.264706  0.818182      1.0   0.333333\n",
       " 979   0.544118  0.090909      0.0   0.000000\n",
       " 3494  0.455882  0.090909      0.5   0.000000\n",
       " 42    0.485294  0.090909      0.5   0.333333\n",
       " 1386  0.455882  0.636364      0.5   0.333333\n",
       " \n",
       " [905 rows x 4 columns],\n",
       "       y\n",
       " 1426  0\n",
       " 416   0\n",
       " 3977  0\n",
       " 2291  0\n",
       " 257   0\n",
       " ...  ..\n",
       " 1508  0\n",
       " 979   0\n",
       " 3494  0\n",
       " 42    0\n",
       " 1386  0\n",
       " \n",
       " [905 rows x 1 columns])"
      ]
     },
     "execution_count": 23,
     "metadata": {},
     "output_type": "execute_result"
    }
   ],
   "source": [
    "sf.reveal(test_data.partitions[alice].data), sf.reveal(test_label.partitions[alice].data)"
   ]
  },
  {
   "cell_type": "code",
   "execution_count": 23,
   "metadata": {},
   "outputs": [
    {
     "data": {
      "text/plain": [
       "(           age       job  marital  education\n",
       " 0     0.235294  0.090909      0.5   0.333333\n",
       " 1     0.176471  0.363636      0.5   0.333333\n",
       " 2     0.411765  0.272727      1.0   0.666667\n",
       " 3     0.573529  0.454545      0.5   0.333333\n",
       " 4     0.485294  0.818182      0.5   0.333333\n",
       " ...        ...       ...      ...        ...\n",
       " 3611  0.397059  0.090909      1.0   0.333333\n",
       " 3612  0.235294  0.181818      0.5   0.666667\n",
       " 3613  0.220588  0.818182      0.5   0.333333\n",
       " 3614  0.220588  0.636364      0.5   0.333333\n",
       " 3615  0.176471  0.363636      1.0   0.666667\n",
       " \n",
       " [3616 rows x 4 columns],\n",
       "       y\n",
       " 0     0\n",
       " 1     0\n",
       " 2     1\n",
       " 3     0\n",
       " 4     0\n",
       " ...  ..\n",
       " 3611  0\n",
       " 3612  0\n",
       " 3613  0\n",
       " 3614  0\n",
       " 3615  0\n",
       " \n",
       " [3616 rows x 1 columns])"
      ]
     },
     "execution_count": 23,
     "metadata": {},
     "output_type": "execute_result"
    }
   ],
   "source": [
    "sf.reveal(train_data.partitions[alice].data), sf.reveal(train_label.partitions[alice].data)"
   ]
  },
  {
   "cell_type": "code",
   "execution_count": 24,
   "metadata": {},
   "outputs": [
    {
     "name": "stderr",
     "output_type": "stream",
     "text": [
      "INFO:root:SL Train Params: {'self': <secretflow.ml.nn.sl.sl_model.SLModel object at 0x7faa1032ba60>, 'x': VDataFrame(partitions={PYURuntime(alice): <secretflow.data.core.partition.Partition object at 0x7fbb5c3a5240>, PYURuntime(bob): <secretflow.data.core.partition.Partition object at 0x7fbb5c3a6230>}, aligned=True), 'y': VDataFrame(partitions={PYURuntime(alice): <secretflow.data.core.partition.Partition object at 0x7fbb5c3a6800>}, aligned=True), 'batch_size': 128, 'epochs': 10, 'verbose': 1, 'callbacks': None, 'validation_data': (VDataFrame(partitions={PYURuntime(alice): <secretflow.data.core.partition.Partition object at 0x7fbb5c3a7370>, PYURuntime(bob): <secretflow.data.core.partition.Partition object at 0x7fbb5c3a6d40>}, aligned=True), VDataFrame(partitions={PYURuntime(alice): <secretflow.data.core.partition.Partition object at 0x7fbb5c3a5cf0>}, aligned=True)), 'shuffle': True, 'sample_weight': None, 'validation_freq': 1, 'dp_spent_step_freq': 10, 'dataset_builder': None, 'audit_log_params': {}, 'early_stopping_batch_step': 0, 'early_stopping_warmup_step': 0, 'random_seed': 22121, 'audit_log_dir': None}\n",
      "Train Processing: :   0%|          | 0/29 [00:00<?, ?it/s]"
     ]
    },
    {
     "name": "stdout",
     "output_type": "stream",
     "text": [
      "\u001b[36m(PYUSLTFModel pid=14537)\u001b[0m Model: \"sequential\"\n",
      "\u001b[36m(PYUSLTFModel pid=14537)\u001b[0m _________________________________________________________________\n",
      "\u001b[36m(PYUSLTFModel pid=14537)\u001b[0m  Layer (type)                Output Shape              Param #   \n",
      "\u001b[36m(PYUSLTFModel pid=14537)\u001b[0m =================================================================\n",
      "\u001b[36m(PYUSLTFModel pid=14537)\u001b[0m  dense (Dense)               (None, 100)               500       \n",
      "\u001b[36m(PYUSLTFModel pid=14537)\u001b[0m                                                                  \n",
      "\u001b[36m(PYUSLTFModel pid=14537)\u001b[0m  dense_1 (Dense)             (None, 64)                6464      \n",
      "\u001b[36m(PYUSLTFModel pid=14537)\u001b[0m                                                                  \n",
      "\u001b[36m(PYUSLTFModel pid=14537)\u001b[0m =================================================================\n",
      "\u001b[36m(PYUSLTFModel pid=14537)\u001b[0m Total params: 6,964\n",
      "\u001b[36m(PYUSLTFModel pid=14537)\u001b[0m Trainable params: 6,964\n",
      "\u001b[36m(PYUSLTFModel pid=14537)\u001b[0m Non-trainable params: 0\n",
      "\u001b[36m(PYUSLTFModel pid=14537)\u001b[0m _________________________________________________________________\n",
      "\u001b[36m(PYUSLTFModel pid=14537)\u001b[0m Model: \"model\"\n",
      "\u001b[36m(PYUSLTFModel pid=14537)\u001b[0m __________________________________________________________________________________________________\n",
      "\u001b[36m(PYUSLTFModel pid=14537)\u001b[0m  Layer (type)                   Output Shape         Param #     Connected to                     \n",
      "\u001b[36m(PYUSLTFModel pid=14537)\u001b[0m ==================================================================================================\n",
      "\u001b[36m(PYUSLTFModel pid=14537)\u001b[0m  input_2 (InputLayer)           [(None, 64)]         0           []                               \n",
      "\u001b[36m(PYUSLTFModel pid=14537)\u001b[0m                                                                                                   \n",
      "\u001b[36m(PYUSLTFModel pid=14537)\u001b[0m  input_3 (InputLayer)           [(None, 64)]         0           []                               \n",
      "\u001b[36m(PYUSLTFModel pid=14537)\u001b[0m                                                                                                   \n",
      "\u001b[36m(PYUSLTFModel pid=14537)\u001b[0m  concatenate (Concatenate)      (None, 128)          0           ['input_2[0][0]',                \n",
      "\u001b[36m(PYUSLTFModel pid=14537)\u001b[0m                                                                   'input_3[0][0]']                \n",
      "\u001b[36m(PYUSLTFModel pid=14537)\u001b[0m                                                                                                   \n",
      "\u001b[36m(PYUSLTFModel pid=14537)\u001b[0m  dense_2 (Dense)                (None, 64)           8256        ['concatenate[0][0]']            \n",
      "\u001b[36m(PYUSLTFModel pid=14537)\u001b[0m                                                                                                   \n",
      "\u001b[36m(PYUSLTFModel pid=14537)\u001b[0m  dense_3 (Dense)                (None, 1)            65          ['dense_2[0][0]']                \n",
      "\u001b[36m(PYUSLTFModel pid=14537)\u001b[0m                                                                                                   \n",
      "\u001b[36m(PYUSLTFModel pid=14537)\u001b[0m ==================================================================================================\n",
      "\u001b[36m(PYUSLTFModel pid=14537)\u001b[0m Total params: 8,321\n",
      "\u001b[36m(PYUSLTFModel pid=14537)\u001b[0m Trainable params: 8,321\n",
      "\u001b[36m(PYUSLTFModel pid=14537)\u001b[0m Non-trainable params: 0\n",
      "\u001b[36m(PYUSLTFModel pid=14537)\u001b[0m __________________________________________________________________________________________________\n"
     ]
    },
    {
     "name": "stdout",
     "output_type": "stream",
     "text": [
      "Epoch 1/10\n"
     ]
    },
    {
     "name": "stderr",
     "output_type": "stream",
     "text": [
      "Train Processing: :  97%|█████████▋| 28/29 [00:07<00:00,  3.94it/s, {'train_loss': 0.44734088, 'train_accuracy': 0.84994614, 'train_auc_1': 0.49928182, 'val_loss': 0.40808406, 'val_accuracy': 0.8729282, 'val_auc_1': 0.47818932}]\n",
      "Train Processing: :   0%|          | 0/29 [00:00<?, ?it/s]"
     ]
    },
    {
     "name": "stderr",
     "output_type": "stream",
     "text": [
      "\u001b[36m(_run pid=10377)\u001b[0m 2024-07-15 17:12:52.431840: W tensorflow/compiler/tf2tensorrt/utils/py_utils.cc:38] TF-TRT Warning: Could not find TensorRT\u001b[32m [repeated 2x across cluster] (Ray deduplicates logs by default. Set RAY_DEDUP_LOGS=0 to disable log deduplication, or see https://docs.ray.io/en/master/ray-observability/ray-logging.html#log-deduplication for more options.)\u001b[0m\n",
      "\u001b[36m(pid=9629)\u001b[0m [2024-07-15 17:20:01,983 E 9629 10510] logging.cc:97: Unhandled exception: N5boost10wrapexceptINS_6system12system_errorEEE. what(): thread: Resource temporarily unavailable [system:11]\n",
      "\u001b[36m(pid=9619)\u001b[0m [2024-07-15 17:20:02,038 E 9619 10769] logging.cc:104: Stack trace: \n",
      "\u001b[36m(pid=9619)\u001b[0m  /home/dengruijun/.conda/envs/drj-sf/lib/python3.10/site-packages/ray/_raylet.so(+0xfebc9a) [0x7fd724d31c9a] ray::operator<<()\n",
      "\u001b[36m(pid=9619)\u001b[0m /home/dengruijun/.conda/envs/drj-sf/lib/python3.10/site-packages/ray/_raylet.so(+0xfee3d8) [0x7fd724d343d8] ray::TerminateHandler()\n",
      "\u001b[36m(pid=9619)\u001b[0m /home/dengruijun/.conda/envs/drj-sf/bin/../lib/libstdc++.so.6(+0xb135a) [0x7fd7239bf35a] __cxxabiv1::__terminate()\n",
      "\u001b[36m(pid=9619)\u001b[0m /home/dengruijun/.conda/envs/drj-sf/bin/../lib/libstdc++.so.6(+0xb13c5) [0x7fd7239bf3c5]\n",
      "\u001b[36m(pid=9619)\u001b[0m /home/dengruijun/.conda/envs/drj-sf/bin/../lib/libstdc++.so.6(+0xb1658) [0x7fd7239bf658]\n",
      "\u001b[36m(pid=9619)\u001b[0m /home/dengruijun/.conda/envs/drj-sf/lib/python3.10/site-packages/ray/_raylet.so(+0x5572c2) [0x7fd72429d2c2] boost::throw_exception<>()\n",
      "\u001b[36m(pid=9619)\u001b[0m /home/dengruijun/.conda/envs/drj-sf/lib/python3.10/site-packages/ray/_raylet.so(+0x10d7fbb) [0x7fd724e1dfbb] boost::asio::detail::do_throw_error()\n",
      "\u001b[36m(pid=9619)\u001b[0m /home/dengruijun/.conda/envs/drj-sf/lib/python3.10/site-packages/ray/_raylet.so(+0x10d89db) [0x7fd724e1e9db] boost::asio::detail::posix_thread::start_thread()\n",
      "\u001b[36m(pid=9619)\u001b[0m /home/dengruijun/.conda/envs/drj-sf/lib/python3.10/site-packages/ray/_raylet.so(+0x10d8e3c) [0x7fd724e1ee3c] boost::asio::thread_pool::thread_pool()\n",
      "\u001b[36m(pid=9619)\u001b[0m /home/dengruijun/.conda/envs/drj-sf/lib/python3.10/site-packages/ray/_raylet.so(+0xa16fc4) [0x7fd72475cfc4] ray::rpc::(anonymous namespace)::_GetServerCallExecutor()\n",
      "\u001b[36m(pid=9619)\u001b[0m /home/dengruijun/.conda/envs/drj-sf/lib/python3.10/site-packages/ray/_raylet.so(_ZN3ray3rpc21GetServerCallExecutorEv+0x9) [0x7fd72475d059] ray::rpc::GetServerCallExecutor()\n",
      "\u001b[36m(pid=9619)\u001b[0m /home/dengruijun/.conda/envs/drj-sf/lib/python3.10/site-packages/ray/_raylet.so(_ZNSt17_Function_handlerIFvN3ray6StatusESt8functionIFvvEES4_EZNS0_3rpc14ServerCallImplINS6_24CoreWorkerServiceHandlerENS6_14LocalGCRequestENS6_12LocalGCReplyELNS6_8AuthTypeE0EE17HandleRequestImplEbEUlS1_S4_S4_E0_E9_M_invokeERKSt9_Any_dataOS1_OS4_SJ_+0xe2) [0x7fd724481bd2] std::_Function_handler<>::_M_invoke()\n",
      "\u001b[36m(pid=9619)\u001b[0m /home/dengruijun/.conda/envs/drj-sf/lib/python3.10/site-packages/ray/_raylet.so(_ZN3ray4core10CoreWorker13HandleLocalGCENS_3rpc14LocalGCRequestEPNS2_12LocalGCReplyESt8functionIFvNS_6StatusES6_IFvvEES9_EE+0x89) [0x7fd72442cd29] ray::core::CoreWorker::HandleLocalGC()\n",
      "\u001b[36m(pid=9619)\u001b[0m /home/dengruijun/.conda/envs/drj-sf/lib/python3.10/site-packages/ray/_raylet.so(_ZN3ray3rpc14ServerCallImplINS0_24CoreWorkerServiceHandlerENS0_14LocalGCRequestENS0_12LocalGCReplyELNS0_8AuthTypeE0EE17HandleRequestImplEb+0xfe) [0x7fd7244b9d4e] ray::rpc::ServerCallImpl<>::HandleRequestImpl()\n",
      "\u001b[36m(pid=9619)\u001b[0m /home/dengruijun/.conda/envs/drj-sf/lib/python3.10/site-packages/ray/_raylet.so(+0xa287ae) [0x7fd72476e7ae] EventTracker::RecordExecution()\n",
      "\u001b[36m(pid=9619)\u001b[0m /home/dengruijun/.conda/envs/drj-sf/lib/python3.10/site-packages/ray/_raylet.so(+0xa21b9e) [0x7fd724767b9e] std::_Function_handler<>::_M_invoke()\n",
      "\u001b[36m(pid=9619)\u001b[0m /home/dengruijun/.conda/envs/drj-sf/lib/python3.10/site-packages/ray/_raylet.so(+0xa22016) [0x7fd724768016] boost::asio::detail::completion_handler<>::do_complete()\n",
      "\u001b[36m(pid=9619)\u001b[0m /home/dengruijun/.conda/envs/drj-sf/lib/python3.10/site-packages/ray/_raylet.so(+0x10d564b) [0x7fd724e1b64b] boost::asio::detail::scheduler::do_run_one()\n",
      "\u001b[36m(pid=9619)\u001b[0m /home/dengruijun/.conda/envs/drj-sf/lib/python3.10/site-packages/ray/_raylet.so(+0x10d6fc9) [0x7fd724e1cfc9] boost::asio::detail::scheduler::run()\n",
      "\u001b[36m(pid=9619)\u001b[0m /home/dengruijun/.conda/envs/drj-sf/lib/python3.10/site-packages/ray/_raylet.so(+0x10d76d2) [0x7fd724e1d6d2] boost::asio::io_context::run()\n",
      "\u001b[36m(pid=9619)\u001b[0m /home/dengruijun/.conda/envs/drj-sf/lib/python3.10/site-packages/ray/_raylet.so(_ZN3ray4core10CoreWorker12RunIOServiceEv+0xc9) [0x7fd72449bb49] ray::core::CoreWorker::RunIOService()\n",
      "\u001b[36m(pid=9619)\u001b[0m /home/dengruijun/.conda/envs/drj-sf/lib/python3.10/site-packages/ray/_raylet.so(+0xb158c0) [0x7fd72485b8c0] thread_proxy\n",
      "\u001b[36m(pid=9619)\u001b[0m /lib64/libpthread.so.0(+0x7ea5) [0x7fd72c7c4ea5] start_thread\n",
      "\u001b[36m(pid=9619)\u001b[0m /lib64/libc.so.6(clone+0x6d) [0x7fd72bde4b0d] clone\n",
      "\u001b[36m(pid=9619)\u001b[0m \n",
      "\u001b[36m(pid=9619)\u001b[0m *** SIGABRT received at time=1721035202 on cpu 39 ***\n",
      "\u001b[36m(pid=9619)\u001b[0m PC: @     0x7fd72bd1c387  (unknown)  raise\n",
      "\u001b[36m(pid=9619)\u001b[0m     @     0x7fd72c7cc630       3776  (unknown)\n",
      "\u001b[36m(pid=9619)\u001b[0m     @     0x7fd7239bf35a  (unknown)  __cxxabiv1::__terminate()\n",
      "\u001b[36m(pid=10083)\u001b[0m     @     0x7f9d4f376580  (unknown)  (unknown)\n",
      "\u001b[36m(pid=10083)\u001b[0m [2024-07-15 17:20:02,039 E 10083 11440] logging.cc:361: *** SIGABRT received at time=1721035202 on cpu 6 ***\n",
      "\u001b[36m(pid=10083)\u001b[0m [2024-07-15 17:20:02,039 E 10083 11440] logging.cc:361: PC: @     0x7f9d576d3387  (unknown)  raise\n",
      "\u001b[36m(pid=10083)\u001b[0m [2024-07-15 17:20:02,039 E 10083 11440] logging.cc:361:     @     0x7f9d58183630       3776  (unknown)\n",
      "\u001b[36m(pid=10083)\u001b[0m [2024-07-15 17:20:02,039 E 10083 11440] logging.cc:361:     @     0x7f9d4f37635a  (unknown)  __cxxabiv1::__terminate()\n",
      "\u001b[36m(pid=10083)\u001b[0m [2024-07-15 17:20:02,039 E 10083 11440] logging.cc:361:     @     0x7f9d4f376580  (unknown)  (unknown)\n",
      "\u001b[36m(pid=10083)\u001b[0m Fatal Python error: Aborted\n",
      "\u001b[36m(pid=10083)\u001b[0m Extension modules: msgpack._cmsgpack, google._upb._message, psutil._psutil_linux, psutil._psutil_posix, setproctitle, yaml._yaml, charset_normalizer.md, requests.packages.charset_normalizer.md, requests.packages.chardet.md, ray._raylet (total: 10)\n"
     ]
    },
    {
     "name": "stdout",
     "output_type": "stream",
     "text": [
      "Epoch 2/10\n"
     ]
    },
    {
     "name": "stderr",
     "output_type": "stream",
     "text": [
      "Train Processing: :  97%|█████████▋| 28/29 [00:03<00:00,  8.49it/s, {'train_loss': 0.35810748, 'train_accuracy': 0.88989484, 'train_auc_1': 0.49538618, 'val_loss': 0.38675332, 'val_accuracy': 0.8729282, 'val_auc_1': 0.5240506}]\n",
      "Train Processing: :   0%|          | 0/29 [00:00<?, ?it/s]"
     ]
    },
    {
     "name": "stdout",
     "output_type": "stream",
     "text": [
      "Epoch 3/10\n"
     ]
    },
    {
     "name": "stderr",
     "output_type": "stream",
     "text": [
      "Train Processing: :  97%|█████████▋| 28/29 [00:02<00:00, 10.90it/s, {'train_loss': 0.34456527, 'train_accuracy': 0.8938578, 'train_auc_1': 0.5194417, 'val_loss': 0.3882205, 'val_accuracy': 0.8729282, 'val_auc_1': 0.52033025}]\n",
      "Train Processing: :   0%|          | 0/29 [00:00<?, ?it/s]"
     ]
    },
    {
     "name": "stdout",
     "output_type": "stream",
     "text": [
      "Epoch 4/10\n"
     ]
    },
    {
     "name": "stderr",
     "output_type": "stream",
     "text": [
      "Train Processing: :  97%|█████████▋| 28/29 [00:02<00:00, 11.22it/s, {'train_loss': 0.32855496, 'train_accuracy': 0.8993363, 'train_auc_1': 0.5488934, 'val_loss': 0.3760889, 'val_accuracy': 0.8729282, 'val_auc_1': 0.59488165}]\n",
      "Train Processing: :   0%|          | 0/29 [00:00<?, ?it/s]"
     ]
    },
    {
     "name": "stdout",
     "output_type": "stream",
     "text": [
      "Epoch 5/10\n"
     ]
    },
    {
     "name": "stderr",
     "output_type": "stream",
     "text": [
      "Train Processing: :  97%|█████████▋| 28/29 [00:02<00:00, 12.30it/s, {'train_loss': 0.35309726, 'train_accuracy': 0.8795797, 'train_auc_1': 0.64654034, 'val_loss': 0.36885908, 'val_accuracy': 0.8729282, 'val_auc_1': 0.633924}]\n",
      "Train Processing: :   0%|          | 0/29 [00:00<?, ?it/s]"
     ]
    },
    {
     "name": "stdout",
     "output_type": "stream",
     "text": [
      "Epoch 6/10\n"
     ]
    },
    {
     "name": "stderr",
     "output_type": "stream",
     "text": [
      "Train Processing: :  97%|█████████▋| 28/29 [00:02<00:00, 12.19it/s, {'train_loss': 0.32773972, 'train_accuracy': 0.89358836, 'train_auc_1': 0.6424427, 'val_loss': 0.35845923, 'val_accuracy': 0.8729282, 'val_auc_1': 0.67333513}]\n",
      "Train Processing: :   0%|          | 0/29 [00:00<?, ?it/s]"
     ]
    },
    {
     "name": "stdout",
     "output_type": "stream",
     "text": [
      "Epoch 7/10\n"
     ]
    },
    {
     "name": "stderr",
     "output_type": "stream",
     "text": [
      "Train Processing: :  97%|█████████▋| 28/29 [00:02<00:00, 12.20it/s, {'train_loss': 0.30891284, 'train_accuracy': 0.8943584, 'train_auc_1': 0.71924084, 'val_loss': 0.36024186, 'val_accuracy': 0.8729282, 'val_auc_1': 0.69409466}]\n",
      "Train Processing: :   0%|          | 0/29 [00:00<?, ?it/s]"
     ]
    },
    {
     "name": "stdout",
     "output_type": "stream",
     "text": [
      "Epoch 8/10\n"
     ]
    },
    {
     "name": "stderr",
     "output_type": "stream",
     "text": [
      "Train Processing: :  97%|█████████▋| 28/29 [00:02<00:00, 12.00it/s, {'train_loss': 0.31385854, 'train_accuracy': 0.89008623, 'train_auc_1': 0.7260469, 'val_loss': 0.3504598, 'val_accuracy': 0.8729282, 'val_auc_1': 0.72760046}]\n",
      "Train Processing: :   0%|          | 0/29 [00:00<?, ?it/s]"
     ]
    },
    {
     "name": "stdout",
     "output_type": "stream",
     "text": [
      "Epoch 9/10\n"
     ]
    },
    {
     "name": "stderr",
     "output_type": "stream",
     "text": [
      "Train Processing: :  97%|█████████▋| 28/29 [00:02<00:00, 11.19it/s, {'train_loss': 0.30289194, 'train_accuracy': 0.89135516, 'train_auc_1': 0.75271636, 'val_loss': 0.3347255, 'val_accuracy': 0.8718232, 'val_auc_1': 0.7620914}]\n",
      "Train Processing: :   0%|          | 0/29 [00:00<?, ?it/s]"
     ]
    },
    {
     "name": "stdout",
     "output_type": "stream",
     "text": [
      "Epoch 10/10\n"
     ]
    },
    {
     "name": "stderr",
     "output_type": "stream",
     "text": [
      "Train Processing: :  97%|█████████▋| 28/29 [00:02<00:00, 11.70it/s, {'train_loss': 0.29856887, 'train_accuracy': 0.8928154, 'train_auc_1': 0.7644277, 'val_loss': 0.34047973, 'val_accuracy': 0.87071824, 'val_auc_1': 0.74332416}]\n"
     ]
    }
   ],
   "source": [
    "# 训练模型\n",
    "history = sl_model.fit(\n",
    "    train_data,\n",
    "    train_label,\n",
    "    validation_data=(test_data, test_label),\n",
    "    epochs=10,\n",
    "    batch_size=train_batch_size,\n",
    "    shuffle=True,\n",
    "    verbose=1,\n",
    "    validation_freq=1,\n",
    "    dp_spent_step_freq=dp_spent_step_freq,\n",
    ")"
   ]
  },
  {
   "cell_type": "markdown",
   "metadata": {},
   "source": [
    "Let's visualize the training process"
   ]
  },
  {
   "cell_type": "code",
   "execution_count": 25,
   "metadata": {},
   "outputs": [
    {
     "data": {
      "image/png": "[encoded data removed]",
      "text/plain": [
       "<Figure size 640x480 with 1 Axes>"
      ]
     },
     "metadata": {},
     "output_type": "display_data"
    }
   ],
   "source": [
    "# Plot the change of loss during training\n",
    "plt.plot(history['train_loss'])\n",
    "plt.plot(history['val_loss'])\n",
    "plt.title('Model loss')\n",
    "plt.ylabel('Loss')\n",
    "plt.xlabel('Epoch')\n",
    "plt.legend(['Train', 'Val'], loc='upper right')\n",
    "plt.show()"
   ]
  },
  {
   "cell_type": "code",
   "execution_count": 26,
   "metadata": {},
   "outputs": [
    {
     "data": {
      "image/png": "[encoded data removed]",
      "text/plain": [
       "<Figure size 640x480 with 1 Axes>"
      ]
     },
     "metadata": {},
     "output_type": "display_data"
    }
   ],
   "source": [
    "# Plot the change of accuracy during training\n",
    "plt.plot(history['train_accuracy'])\n",
    "plt.plot(history['val_accuracy'])\n",
    "plt.title('Model accuracy')\n",
    "plt.ylabel('Accuracy')\n",
    "plt.xlabel('Epoch')\n",
    "plt.legend(['Train', 'Val'], loc='upper left')\n",
    "plt.show()"
   ]
  },
  {
   "cell_type": "code",
   "execution_count": 27,
   "metadata": {},
   "outputs": [
    {
     "data": {
      "image/png": "[encoded data removed]",
      "text/plain": [
       "<Figure size 640x480 with 1 Axes>"
      ]
     },
     "metadata": {},
     "output_type": "display_data"
    }
   ],
   "source": [
    "# Plot the Area Under Curve(AUC) of loss during training\n",
    "plt.plot(history['train_auc_1'])\n",
    "plt.plot(history['val_auc_1'])\n",
    "plt.title('Model Area Under Curve')\n",
    "plt.ylabel('Area Under Curve')\n",
    "plt.xlabel('Epoch')\n",
    "plt.legend(['Train', 'Val'], loc='upper left')\n",
    "plt.show()"
   ]
  },
  {
   "cell_type": "markdown",
   "metadata": {},
   "source": [
    "Let's call the evaluation function"
   ]
  },
  {
   "cell_type": "code",
   "execution_count": 28,
   "metadata": {},
   "outputs": [
    {
     "name": "stderr",
     "output_type": "stream",
     "text": [
      "Evaluate Processing: :  88%|████████▊ | 7/8 [00:00<00:00, 66.89it/s, loss=0.342, accuracy=0.873, auc_1=0.735]\n"
     ]
    }
   ],
   "source": [
    "global_metric = sl_model.evaluate(test_data, test_label, batch_size=128)"
   ]
  },
  {
   "cell_type": "markdown",
   "metadata": {},
   "source": [
    "## Compare to local model"
   ]
  },
  {
   "cell_type": "markdown",
   "metadata": {},
   "source": [
    "#### Model  \n",
    "Here, we use the same model structure as the one used in the split learning example, but only the model structure for Alice is used in this case. The code for defining the model is shown below.  \n",
    "#### Data  \n",
    "The data also use kaggle's anti-fraud data. Here, we just use Alice's data of the new bank.  \n",
    "1. The total sample size was 11162, including 8929 training set and 2233 test set.  \n",
    "2. The feature dimension is 4.  "
   ]
  },
  {
   "cell_type": "code",
   "execution_count": 29,
   "metadata": {},
   "outputs": [],
   "source": [
    "from tensorflow import keras\n",
    "from tensorflow.keras import layers\n",
    "import tensorflow as tf\n",
    "from sklearn.model_selection import train_test_split\n",
    "\n",
    "\n",
    "def create_model():\n",
    "    model = keras.Sequential(\n",
    "        [\n",
    "            keras.Input(shape=4),\n",
    "            layers.Dense(100, activation=\"relu\"),\n",
    "            layers.Dense(64, activation='relu'),\n",
    "            layers.Dense(64, activation='relu'),\n",
    "            layers.Dense(1, activation='sigmoid'),\n",
    "        ]\n",
    "    )\n",
    "    model.compile(\n",
    "        loss='binary_crossentropy',\n",
    "        optimizer='adam',\n",
    "        metrics=[\"accuracy\", tf.keras.metrics.AUC()],\n",
    "    )\n",
    "    return model\n",
    "\n",
    "\n",
    "single_model = create_model()"
   ]
  },
  {
   "cell_type": "markdown",
   "metadata": {},
   "source": [
    "Data process"
   ]
  },
  {
   "cell_type": "code",
   "execution_count": 30,
   "metadata": {},
   "outputs": [],
   "source": [
    "import pandas as pd\n",
    "from sklearn.model_selection import train_test_split\n",
    "from sklearn.preprocessing import MinMaxScaler\n",
    "from sklearn.preprocessing import LabelEncoder\n",
    "\n",
    "encoder = LabelEncoder()\n",
    "single_part_data = alice_data.copy()\n",
    "\n",
    "single_part_data['job'] = encoder.fit_transform(alice_data['job'])\n",
    "single_part_data['marital'] = encoder.fit_transform(alice_data['marital'])\n",
    "single_part_data['education'] = encoder.fit_transform(alice_data['education'])\n",
    "single_part_data['y'] = encoder.fit_transform(alice_data['y'])"
   ]
  },
  {
   "cell_type": "code",
   "execution_count": 31,
   "metadata": {},
   "outputs": [],
   "source": [
    "y = single_part_data['y']\n",
    "alice_data = single_part_data.drop(columns=['y'], inplace=False)"
   ]
  },
  {
   "cell_type": "code",
   "execution_count": 32,
   "metadata": {},
   "outputs": [],
   "source": [
    "scaler = MinMaxScaler()\n",
    "alice_data = scaler.fit_transform(alice_data)"
   ]
  },
  {
   "cell_type": "code",
   "execution_count": 33,
   "metadata": {},
   "outputs": [],
   "source": [
    "train_data, test_data = train_test_split(\n",
    "    alice_data, train_size=0.8, random_state=random_state\n",
    ")\n",
    "train_label, test_label = train_test_split(y, train_size=0.8, random_state=random_state)"
   ]
  },
  {
   "cell_type": "code",
   "execution_count": 34,
   "metadata": {},
   "outputs": [
    {
     "data": {
      "text/plain": [
       "(4521, 4)"
      ]
     },
     "execution_count": 34,
     "metadata": {},
     "output_type": "execute_result"
    }
   ],
   "source": [
    "alice_data.shape"
   ]
  },
  {
   "cell_type": "code",
   "execution_count": 35,
   "metadata": {},
   "outputs": [
    {
     "name": "stdout",
     "output_type": "stream",
     "text": [
      "Epoch 1/10\n",
      "29/29 [==============================] - 1s 16ms/step - loss: 0.5262 - accuracy: 0.8117 - auc_3: 0.4541 - val_loss: 0.3993 - val_accuracy: 0.8729 - val_auc_3: 0.4250\n",
      "Epoch 2/10\n",
      "29/29 [==============================] - 0s 6ms/step - loss: 0.3705 - accuracy: 0.8877 - auc_3: 0.4579 - val_loss: 0.3963 - val_accuracy: 0.8729 - val_auc_3: 0.4202\n",
      "Epoch 3/10\n",
      "29/29 [==============================] - 0s 6ms/step - loss: 0.3656 - accuracy: 0.8877 - auc_3: 0.4375 - val_loss: 0.3928 - val_accuracy: 0.8729 - val_auc_3: 0.4218\n",
      "Epoch 4/10\n",
      "29/29 [==============================] - 0s 6ms/step - loss: 0.3610 - accuracy: 0.8877 - auc_3: 0.4461 - val_loss: 0.3899 - val_accuracy: 0.8729 - val_auc_3: 0.4263\n",
      "Epoch 5/10\n",
      "29/29 [==============================] - 0s 6ms/step - loss: 0.3595 - accuracy: 0.8877 - auc_3: 0.4520 - val_loss: 0.3876 - val_accuracy: 0.8729 - val_auc_3: 0.4432\n",
      "Epoch 6/10\n",
      "29/29 [==============================] - 0s 6ms/step - loss: 0.3579 - accuracy: 0.8877 - auc_3: 0.4644 - val_loss: 0.3857 - val_accuracy: 0.8729 - val_auc_3: 0.4592\n",
      "Epoch 7/10\n",
      "29/29 [==============================] - 0s 6ms/step - loss: 0.3564 - accuracy: 0.8877 - auc_3: 0.4748 - val_loss: 0.3838 - val_accuracy: 0.8729 - val_auc_3: 0.4908\n",
      "Epoch 8/10\n",
      "29/29 [==============================] - 0s 6ms/step - loss: 0.3550 - accuracy: 0.8877 - auc_3: 0.4911 - val_loss: 0.3821 - val_accuracy: 0.8729 - val_auc_3: 0.5128\n",
      "Epoch 9/10\n",
      "29/29 [==============================] - 0s 6ms/step - loss: 0.3537 - accuracy: 0.8877 - auc_3: 0.5080 - val_loss: 0.3805 - val_accuracy: 0.8729 - val_auc_3: 0.5361\n",
      "Epoch 10/10\n",
      "29/29 [==============================] - 0s 6ms/step - loss: 0.3525 - accuracy: 0.8877 - auc_3: 0.5224 - val_loss: 0.3791 - val_accuracy: 0.8729 - val_auc_3: 0.5568\n"
     ]
    },
    {
     "data": {
      "text/plain": [
       "<keras.callbacks.History at 0x7faa087658d0>"
      ]
     },
     "execution_count": 35,
     "metadata": {},
     "output_type": "execute_result"
    }
   ],
   "source": [
    "single_model.fit(\n",
    "    train_data,\n",
    "    train_label,\n",
    "    validation_data=(test_data, test_label),\n",
    "    batch_size=128,\n",
    "    epochs=10,\n",
    "    shuffle=False,\n",
    ")"
   ]
  },
  {
   "cell_type": "code",
   "execution_count": 36,
   "metadata": {},
   "outputs": [
    {
     "name": "stdout",
     "output_type": "stream",
     "text": [
      "8/8 [==============================] - 0s 3ms/step - loss: 0.3791 - accuracy: 0.8729 - auc_3: 0.5568\n"
     ]
    },
    {
     "data": {
      "text/plain": [
       "[0.37905651330947876, 0.8729282021522522, 0.5568134188652039]"
      ]
     },
     "execution_count": 36,
     "metadata": {},
     "output_type": "execute_result"
    }
   ],
   "source": [
    "single_model.evaluate(test_data, test_label, batch_size=128)"
   ]
  },
  {
   "cell_type": "markdown",
   "metadata": {},
   "source": [
    "### Summary\n",
    "The above two experiments simulate a typical vertical scene training problem. Alice and Bob have the same sample group, but each side has only a part of the features. If Alice only uses her own data to train the model, an accuracy of **0.872**, AUC **0.53** model can be obtained. However, if Bob's data are combined, a model with an accuracy of **0.875**  and AUC **0.885** can be obtained."
   ]
  },
  {
   "cell_type": "markdown",
   "metadata": {},
   "source": [
    "## Conclusion"
   ]
  },
  {
   "cell_type": "markdown",
   "metadata": {},
   "source": [
    "* This tutorial introduces what is split learning and how to do it in secretFlow.  \n",
    "* It can be seen from the experimental data that split learning has significant advantages in expanding sample dimension and improving model effect through joint multi-party training.\n",
    "* This tutorial uses plaintext aggregation to demonstrate, without considering the leakage problem of hidden layer. Secretflow provides AggLayer to avoid the leakage problem of hidden layer plaintext transmission through MPC,TEE,HE, and DP. If you are interested, please refer to relevant documents.\n",
    "* Next, you may want to try different data sets, you need to vertically shard the data first and then follow the flow of this tutorial.\n"
   ]
  }
 ],
 "metadata": {
  "kernelspec": {
   "display_name": "Python 3 (ipykernel)",
   "language": "python",
   "name": "python3"
  },
  "language_info": {
   "codemirror_mode": {
    "name": "ipython",
    "version": 3
   },
   "file_extension": ".py",
   "mimetype": "text/x-python",
   "name": "python",
   "nbconvert_exporter": "python",
   "pygments_lexer": "ipython3",
   "version": "3.8.16"
  },
  "vscode": {
   "interpreter": {
    "hash": "ae1fdd5fd034b7d694352220485921694ff89198520409089b4646721fce11ca"
   }
  }
 },
 "nbformat": 4,
 "nbformat_minor": 4
}
