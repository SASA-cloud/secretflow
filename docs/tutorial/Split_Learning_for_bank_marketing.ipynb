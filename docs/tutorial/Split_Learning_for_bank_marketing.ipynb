{
 "cells": [
  {
   "cell_type": "markdown",
   "metadata": {},
   "source": [
    "# Split Learning—Bank Marketing"
   ]
  },
  {
   "cell_type": "markdown",
   "metadata": {},
   "source": [
    ">The following codes are demos only. It's **NOT for production** due to system security concerns, please **DO NOT** use it directly in production."
   ]
  },
  {
   "cell_type": "markdown",
   "metadata": {},
   "source": [
    "In this tutorial, we will use the bank's marketing model as an example to show how to accomplish split learning in vertical scenarios under the SecretFlow framework.\n",
    "SecretFlow provides a user-friendly Api that makes it easy to apply your Keras model or PyTorch model to split learning scenarios to complete joint modeling tasks for vertical scenarios.\n",
    "\n",
    "In this tutorial we will show you how to turn your existing 'Keras' model into a split learning model under Secretflow to complete federated multi-party modeling tasks."
   ]
  },
  {
   "cell_type": "markdown",
   "metadata": {},
   "source": []
  },
  {
   "cell_type": "markdown",
   "metadata": {},
   "source": [
    "## What is Split Learning？"
   ]
  },
  {
   "cell_type": "markdown",
   "metadata": {},
   "source": [
    "The core idea of split learning is to split the network structure. Each device (silo) retains only a part of the network structure, and the sub-network structure of all devices is combined together to form a complete network model. \n",
    "In the training process, different devices (silos) only perform forward or reverse calculation on the local network structure, and transfer the calculation results to the next device. Multiple devices complete the training through joint model until convergence.\n",
    "\n",
    " <img alt=\"split_learning_tutorial.png\" src=\"resources/split_learning_tutorial.png\" width=\"600\">  \n"
   ]
  },
  {
   "cell_type": "markdown",
   "metadata": {},
   "source": [
    "**Alice**：have *data\\_alice*，*model\\_base\\_alice*  \n",
    "**Bob**: have *data\\_bob*，*model\\_base\\_bob*，*model\\_fuse*  \n",
    "\n",
    "1. **Alice** uses its data to get *hidden0* through *model\\_base\\_Alice* and send it to Bob. \n",
    "2. **Bob** gets *hidden1* with its data through *model\\_base\\_bob*.\n",
    "3. *hidden\\_0* and *hidden\\_1* are input to the *AggLayer* for aggregation, and the aggregated *hidden\\_merge* is the output.\n",
    "4. **Bob** input *hidden\\_merge* to *model\\_fuse*, get the gradient with *label* and send it back.\n",
    "5. The gradient is split into two parts *g\\_0*, *g\\_1* through *AggLayer*, which are sent to **Alice** and **Bob** respectively.\n",
    "6. Then **Alice** and **Bob** update their local base net with *g\\_0* or *g\\_1*.\n"
   ]
  },
  {
   "cell_type": "markdown",
   "metadata": {},
   "source": [
    "## Task"
   ]
  },
  {
   "cell_type": "markdown",
   "metadata": {},
   "source": [
    "Marketing is the banking industry in the ever-changing market environment, to meet the needs of customers, to achieve business objectives of the overall operation and sales activities. In the current environment of big data, data analysis provides a more effective analysis means for the banking industry. Customer demand analysis, understanding of target market trends and more macro market strategies can provide the basis and direction.  \n",
    "  \n",
    "The data from [kaggle](https://www.kaggle.com/janiobachmann/bank-marketing-dataset) is a set of classic marketing data bank, is a Portuguese bank agency telephone direct marketing activities, The target variable is whether the customer subscribes to deposit product."
   ]
  },
  {
   "cell_type": "markdown",
   "metadata": {},
   "source": [
    "## Data\n",
    "\n",
    "1. The total sample size was 11162, including 8929 training set and 2233 test set.\n",
    "2. Feature dim is 16, target is binary classification.\n",
    "3. We have cut the data in advance. Alice holds the 4-dimensional basic attribute features, Bob holds the 12-dimensional bank transaction features, and only Alice holds the corresponding label."
   ]
  },
  {
   "cell_type": "markdown",
   "metadata": {},
   "source": [
    "Let's start by looking at what our bank's marketing data look like?  \n",
    "\n",
    "The original data is divided into Bank Alice and Bank Bob, which stores in Alice and Bob respectively. Here, CSV is the original data that has only been separated without pre-processing, we will use `secretflow preprocess` for FedData preprocess."
   ]
  },
  {
   "cell_type": "markdown",
   "metadata": {},
   "source": [
    "### prepare data drj"
   ]
  },
  {
   "cell_type": "code",
   "execution_count": 34,
   "metadata": {},
   "outputs": [],
   "source": [
    "import pandas as pd\n",
    "from secretflow.utils.simulation.datasets import dataset\n",
    "\n",
    "df = pd.read_csv(dataset('bank_marketing'), sep=';')\n",
    "data =df.iloc[:, 0:16]\n",
    "label=df['y']"
   ]
  },
  {
   "cell_type": "markdown",
   "metadata": {},
   "source": [
    "We assume that Alice is a new bank, and they only have the basic information of the user and purchased the label of financial products from other bank."
   ]
  },
  {
   "cell_type": "code",
   "execution_count": 35,
   "metadata": {},
   "outputs": [
    {
     "data": {
      "text/html": [
       "<div>\n",
       "<style scoped>\n",
       "    .dataframe tbody tr th:only-of-type {\n",
       "        vertical-align: middle;\n",
       "    }\n",
       "\n",
       "    .dataframe tbody tr th {\n",
       "        vertical-align: top;\n",
       "    }\n",
       "\n",
       "    .dataframe thead th {\n",
       "        text-align: right;\n",
       "    }\n",
       "</style>\n",
       "<table border=\"1\" class=\"dataframe\">\n",
       "  <thead>\n",
       "    <tr style=\"text-align: right;\">\n",
       "      <th></th>\n",
       "      <th>age</th>\n",
       "      <th>job</th>\n",
       "      <th>marital</th>\n",
       "      <th>education</th>\n",
       "      <th>y</th>\n",
       "    </tr>\n",
       "  </thead>\n",
       "  <tbody>\n",
       "    <tr>\n",
       "      <th>0</th>\n",
       "      <td>30</td>\n",
       "      <td>unemployed</td>\n",
       "      <td>married</td>\n",
       "      <td>primary</td>\n",
       "      <td>no</td>\n",
       "    </tr>\n",
       "    <tr>\n",
       "      <th>1</th>\n",
       "      <td>33</td>\n",
       "      <td>services</td>\n",
       "      <td>married</td>\n",
       "      <td>secondary</td>\n",
       "      <td>no</td>\n",
       "    </tr>\n",
       "    <tr>\n",
       "      <th>2</th>\n",
       "      <td>35</td>\n",
       "      <td>management</td>\n",
       "      <td>single</td>\n",
       "      <td>tertiary</td>\n",
       "      <td>no</td>\n",
       "    </tr>\n",
       "    <tr>\n",
       "      <th>3</th>\n",
       "      <td>30</td>\n",
       "      <td>management</td>\n",
       "      <td>married</td>\n",
       "      <td>tertiary</td>\n",
       "      <td>no</td>\n",
       "    </tr>\n",
       "    <tr>\n",
       "      <th>4</th>\n",
       "      <td>59</td>\n",
       "      <td>blue-collar</td>\n",
       "      <td>married</td>\n",
       "      <td>secondary</td>\n",
       "      <td>no</td>\n",
       "    </tr>\n",
       "    <tr>\n",
       "      <th>...</th>\n",
       "      <td>...</td>\n",
       "      <td>...</td>\n",
       "      <td>...</td>\n",
       "      <td>...</td>\n",
       "      <td>...</td>\n",
       "    </tr>\n",
       "    <tr>\n",
       "      <th>4516</th>\n",
       "      <td>33</td>\n",
       "      <td>services</td>\n",
       "      <td>married</td>\n",
       "      <td>secondary</td>\n",
       "      <td>no</td>\n",
       "    </tr>\n",
       "    <tr>\n",
       "      <th>4517</th>\n",
       "      <td>57</td>\n",
       "      <td>self-employed</td>\n",
       "      <td>married</td>\n",
       "      <td>tertiary</td>\n",
       "      <td>no</td>\n",
       "    </tr>\n",
       "    <tr>\n",
       "      <th>4518</th>\n",
       "      <td>57</td>\n",
       "      <td>technician</td>\n",
       "      <td>married</td>\n",
       "      <td>secondary</td>\n",
       "      <td>no</td>\n",
       "    </tr>\n",
       "    <tr>\n",
       "      <th>4519</th>\n",
       "      <td>28</td>\n",
       "      <td>blue-collar</td>\n",
       "      <td>married</td>\n",
       "      <td>secondary</td>\n",
       "      <td>no</td>\n",
       "    </tr>\n",
       "    <tr>\n",
       "      <th>4520</th>\n",
       "      <td>44</td>\n",
       "      <td>entrepreneur</td>\n",
       "      <td>single</td>\n",
       "      <td>tertiary</td>\n",
       "      <td>no</td>\n",
       "    </tr>\n",
       "  </tbody>\n",
       "</table>\n",
       "<p>4521 rows × 5 columns</p>\n",
       "</div>"
      ],
      "text/plain": [
       "      age            job  marital  education   y\n",
       "0      30     unemployed  married    primary  no\n",
       "1      33       services  married  secondary  no\n",
       "2      35     management   single   tertiary  no\n",
       "3      30     management  married   tertiary  no\n",
       "4      59    blue-collar  married  secondary  no\n",
       "...   ...            ...      ...        ...  ..\n",
       "4516   33       services  married  secondary  no\n",
       "4517   57  self-employed  married   tertiary  no\n",
       "4518   57     technician  married  secondary  no\n",
       "4519   28    blue-collar  married  secondary  no\n",
       "4520   44   entrepreneur   single   tertiary  no\n",
       "\n",
       "[4521 rows x 5 columns]"
      ]
     },
     "execution_count": 35,
     "metadata": {},
     "output_type": "execute_result"
    }
   ],
   "source": [
    "alice_columns = [\"age\", \"job\", \"marital\", \"education\", \"y\"]\n",
    "bob_colomns = [\n",
    "        \"default\",\n",
    "        \"balance\",\n",
    "        \"housing\",\n",
    "        \"loan\",\n",
    "        \"contact\",\n",
    "        \"day\",\n",
    "        \"month\",\n",
    "        \"duration\",\n",
    "        \"campaign\",\n",
    "        \"pdays\",\n",
    "        \"previous\",\n",
    "        \"poutcome\",\n",
    "    ]\n",
    "alice_data = df[alice_columns]\n",
    "alice_data"
   ]
  },
  {
   "cell_type": "markdown",
   "metadata": {},
   "source": [
    "Bob is an old bank, they have the user's account balance, house, loan, and recent marketing feedback."
   ]
  },
  {
   "cell_type": "code",
   "execution_count": 36,
   "metadata": {},
   "outputs": [
    {
     "data": {
      "text/html": [
       "<div>\n",
       "<style scoped>\n",
       "    .dataframe tbody tr th:only-of-type {\n",
       "        vertical-align: middle;\n",
       "    }\n",
       "\n",
       "    .dataframe tbody tr th {\n",
       "        vertical-align: top;\n",
       "    }\n",
       "\n",
       "    .dataframe thead th {\n",
       "        text-align: right;\n",
       "    }\n",
       "</style>\n",
       "<table border=\"1\" class=\"dataframe\">\n",
       "  <thead>\n",
       "    <tr style=\"text-align: right;\">\n",
       "      <th></th>\n",
       "      <th>default</th>\n",
       "      <th>balance</th>\n",
       "      <th>housing</th>\n",
       "      <th>loan</th>\n",
       "      <th>contact</th>\n",
       "      <th>day</th>\n",
       "      <th>month</th>\n",
       "      <th>duration</th>\n",
       "      <th>campaign</th>\n",
       "      <th>pdays</th>\n",
       "      <th>previous</th>\n",
       "      <th>poutcome</th>\n",
       "    </tr>\n",
       "  </thead>\n",
       "  <tbody>\n",
       "    <tr>\n",
       "      <th>0</th>\n",
       "      <td>no</td>\n",
       "      <td>1787</td>\n",
       "      <td>no</td>\n",
       "      <td>no</td>\n",
       "      <td>cellular</td>\n",
       "      <td>19</td>\n",
       "      <td>oct</td>\n",
       "      <td>79</td>\n",
       "      <td>1</td>\n",
       "      <td>-1</td>\n",
       "      <td>0</td>\n",
       "      <td>unknown</td>\n",
       "    </tr>\n",
       "    <tr>\n",
       "      <th>1</th>\n",
       "      <td>no</td>\n",
       "      <td>4789</td>\n",
       "      <td>yes</td>\n",
       "      <td>yes</td>\n",
       "      <td>cellular</td>\n",
       "      <td>11</td>\n",
       "      <td>may</td>\n",
       "      <td>220</td>\n",
       "      <td>1</td>\n",
       "      <td>339</td>\n",
       "      <td>4</td>\n",
       "      <td>failure</td>\n",
       "    </tr>\n",
       "    <tr>\n",
       "      <th>2</th>\n",
       "      <td>no</td>\n",
       "      <td>1350</td>\n",
       "      <td>yes</td>\n",
       "      <td>no</td>\n",
       "      <td>cellular</td>\n",
       "      <td>16</td>\n",
       "      <td>apr</td>\n",
       "      <td>185</td>\n",
       "      <td>1</td>\n",
       "      <td>330</td>\n",
       "      <td>1</td>\n",
       "      <td>failure</td>\n",
       "    </tr>\n",
       "    <tr>\n",
       "      <th>3</th>\n",
       "      <td>no</td>\n",
       "      <td>1476</td>\n",
       "      <td>yes</td>\n",
       "      <td>yes</td>\n",
       "      <td>unknown</td>\n",
       "      <td>3</td>\n",
       "      <td>jun</td>\n",
       "      <td>199</td>\n",
       "      <td>4</td>\n",
       "      <td>-1</td>\n",
       "      <td>0</td>\n",
       "      <td>unknown</td>\n",
       "    </tr>\n",
       "    <tr>\n",
       "      <th>4</th>\n",
       "      <td>no</td>\n",
       "      <td>0</td>\n",
       "      <td>yes</td>\n",
       "      <td>no</td>\n",
       "      <td>unknown</td>\n",
       "      <td>5</td>\n",
       "      <td>may</td>\n",
       "      <td>226</td>\n",
       "      <td>1</td>\n",
       "      <td>-1</td>\n",
       "      <td>0</td>\n",
       "      <td>unknown</td>\n",
       "    </tr>\n",
       "    <tr>\n",
       "      <th>...</th>\n",
       "      <td>...</td>\n",
       "      <td>...</td>\n",
       "      <td>...</td>\n",
       "      <td>...</td>\n",
       "      <td>...</td>\n",
       "      <td>...</td>\n",
       "      <td>...</td>\n",
       "      <td>...</td>\n",
       "      <td>...</td>\n",
       "      <td>...</td>\n",
       "      <td>...</td>\n",
       "      <td>...</td>\n",
       "    </tr>\n",
       "    <tr>\n",
       "      <th>4516</th>\n",
       "      <td>no</td>\n",
       "      <td>-333</td>\n",
       "      <td>yes</td>\n",
       "      <td>no</td>\n",
       "      <td>cellular</td>\n",
       "      <td>30</td>\n",
       "      <td>jul</td>\n",
       "      <td>329</td>\n",
       "      <td>5</td>\n",
       "      <td>-1</td>\n",
       "      <td>0</td>\n",
       "      <td>unknown</td>\n",
       "    </tr>\n",
       "    <tr>\n",
       "      <th>4517</th>\n",
       "      <td>yes</td>\n",
       "      <td>-3313</td>\n",
       "      <td>yes</td>\n",
       "      <td>yes</td>\n",
       "      <td>unknown</td>\n",
       "      <td>9</td>\n",
       "      <td>may</td>\n",
       "      <td>153</td>\n",
       "      <td>1</td>\n",
       "      <td>-1</td>\n",
       "      <td>0</td>\n",
       "      <td>unknown</td>\n",
       "    </tr>\n",
       "    <tr>\n",
       "      <th>4518</th>\n",
       "      <td>no</td>\n",
       "      <td>295</td>\n",
       "      <td>no</td>\n",
       "      <td>no</td>\n",
       "      <td>cellular</td>\n",
       "      <td>19</td>\n",
       "      <td>aug</td>\n",
       "      <td>151</td>\n",
       "      <td>11</td>\n",
       "      <td>-1</td>\n",
       "      <td>0</td>\n",
       "      <td>unknown</td>\n",
       "    </tr>\n",
       "    <tr>\n",
       "      <th>4519</th>\n",
       "      <td>no</td>\n",
       "      <td>1137</td>\n",
       "      <td>no</td>\n",
       "      <td>no</td>\n",
       "      <td>cellular</td>\n",
       "      <td>6</td>\n",
       "      <td>feb</td>\n",
       "      <td>129</td>\n",
       "      <td>4</td>\n",
       "      <td>211</td>\n",
       "      <td>3</td>\n",
       "      <td>other</td>\n",
       "    </tr>\n",
       "    <tr>\n",
       "      <th>4520</th>\n",
       "      <td>no</td>\n",
       "      <td>1136</td>\n",
       "      <td>yes</td>\n",
       "      <td>yes</td>\n",
       "      <td>cellular</td>\n",
       "      <td>3</td>\n",
       "      <td>apr</td>\n",
       "      <td>345</td>\n",
       "      <td>2</td>\n",
       "      <td>249</td>\n",
       "      <td>7</td>\n",
       "      <td>other</td>\n",
       "    </tr>\n",
       "  </tbody>\n",
       "</table>\n",
       "<p>4521 rows × 12 columns</p>\n",
       "</div>"
      ],
      "text/plain": [
       "     default  balance housing loan   contact  day month  duration  campaign  \\\n",
       "0         no     1787      no   no  cellular   19   oct        79         1   \n",
       "1         no     4789     yes  yes  cellular   11   may       220         1   \n",
       "2         no     1350     yes   no  cellular   16   apr       185         1   \n",
       "3         no     1476     yes  yes   unknown    3   jun       199         4   \n",
       "4         no        0     yes   no   unknown    5   may       226         1   \n",
       "...      ...      ...     ...  ...       ...  ...   ...       ...       ...   \n",
       "4516      no     -333     yes   no  cellular   30   jul       329         5   \n",
       "4517     yes    -3313     yes  yes   unknown    9   may       153         1   \n",
       "4518      no      295      no   no  cellular   19   aug       151        11   \n",
       "4519      no     1137      no   no  cellular    6   feb       129         4   \n",
       "4520      no     1136     yes  yes  cellular    3   apr       345         2   \n",
       "\n",
       "      pdays  previous poutcome  \n",
       "0        -1         0  unknown  \n",
       "1       339         4  failure  \n",
       "2       330         1  failure  \n",
       "3        -1         0  unknown  \n",
       "4        -1         0  unknown  \n",
       "...     ...       ...      ...  \n",
       "4516     -1         0  unknown  \n",
       "4517     -1         0  unknown  \n",
       "4518     -1         0  unknown  \n",
       "4519    211         3    other  \n",
       "4520    249         7    other  \n",
       "\n",
       "[4521 rows x 12 columns]"
      ]
     },
     "execution_count": 36,
     "metadata": {},
     "output_type": "execute_result"
    }
   ],
   "source": [
    "bob_data = df[bob_colomns]\n",
    "bob_data"
   ]
  },
  {
   "cell_type": "markdown",
   "metadata": {},
   "source": [
    "Next, we perform data preprocessing on the `VDataFrame`.   \n",
    "We use LabelEncoder and MinMaxScaler as examples. These two preprocessing functions have corresponding concepts in SkLearn, and their usage methods are similar to those in **sklearn**."
   ]
  },
  {
   "cell_type": "code",
   "execution_count": 37,
   "metadata": {},
   "outputs": [],
   "source": [
    "from sklearn.preprocessing import MinMaxScaler\n",
    "from sklearn.preprocessing import LabelEncoder"
   ]
  },
  {
   "cell_type": "code",
   "execution_count": 38,
   "metadata": {},
   "outputs": [
    {
     "name": "stdout",
     "output_type": "stream",
     "text": [
      "<class 'numpy.int64'>\n"
     ]
    }
   ],
   "source": [
    "# 类别类编码\n",
    "encoder = LabelEncoder()\n",
    "data['job'] = encoder.fit_transform(data['job'])\n",
    "data['marital'] = encoder.fit_transform(data['marital'])\n",
    "data['education'] = encoder.fit_transform(data['education'])\n",
    "data['default'] = encoder.fit_transform(data['default'])\n",
    "data['housing'] = encoder.fit_transform(data['housing'])\n",
    "data['loan'] = encoder.fit_transform(data['loan'])\n",
    "data['contact'] = encoder.fit_transform(data['contact'])\n",
    "data['poutcome'] = encoder.fit_transform(data['poutcome'])\n",
    "data['month'] = encoder.fit_transform(data['month'])\n",
    "label = encoder.fit_transform(label)\n",
    "\n",
    "print(type(data['job'].iloc[0]))"
   ]
  },
  {
   "cell_type": "code",
   "execution_count": 39,
   "metadata": {},
   "outputs": [
    {
     "name": "stdout",
     "output_type": "stream",
     "text": [
      "label= <class 'numpy.ndarray'>,\n",
      "data = <class 'pandas.core.frame.DataFrame'>\n",
      "age          int64\n",
      "job          int64\n",
      "marital      int64\n",
      "education    int64\n",
      "default      int64\n",
      "balance      int64\n",
      "housing      int64\n",
      "loan         int64\n",
      "contact      int64\n",
      "day          int64\n",
      "month        int64\n",
      "duration     int64\n",
      "campaign     int64\n",
      "pdays        int64\n",
      "previous     int64\n",
      "poutcome     int64\n",
      "dtype: object\n"
     ]
    }
   ],
   "source": [
    "# 打印data 的数据类型\n",
    "print(f\"label= {type(label)},\\ndata = {type(data)}\")\n",
    "print(data.dtypes)"
   ]
  },
  {
   "cell_type": "markdown",
   "metadata": {},
   "source": [
    "Standardize data via MinMaxScaler"
   ]
  },
  {
   "cell_type": "code",
   "execution_count": 40,
   "metadata": {},
   "outputs": [],
   "source": [
    "# 对数据进行normalize\n",
    "scaler = MinMaxScaler()\n",
    "\n",
    "data = scaler.fit_transform(data)\n",
    "\n",
    "# data.astype('float32')\n",
    "# print('type(data)=', type(data))\n",
    "# print(data.columns)\n",
    "# print(data['job'].loc[0:0])"
   ]
  },
  {
   "cell_type": "markdown",
   "metadata": {},
   "source": [
    "Next we divide the data set into train-set and test-set."
   ]
  },
  {
   "cell_type": "code",
   "execution_count": 41,
   "metadata": {},
   "outputs": [
    {
     "name": "stdout",
     "output_type": "stream",
     "text": [
      "int64\n",
      "[0 0 1 0 0 0 0 0 0 0]\n",
      "(3616,)\n",
      "(3616, 16)\n"
     ]
    }
   ],
   "source": [
    "# 划分训练集和测试集，并且将数据划分给alice和bob\n",
    "# from secretflow.data.split import train_test_split\n",
    "from sklearn.model_selection import train_test_split\n",
    "import numpy as np \n",
    "\n",
    "random_state = 1234\n",
    "train_data, test_data = train_test_split(\n",
    "    data, train_size=0.8, random_state=random_state\n",
    ")\n",
    "train_label, test_label = train_test_split(\n",
    "    label, train_size=0.8, random_state=random_state\n",
    ")\n",
    "\n",
    "\n",
    "print(train_label.dtype)\n",
    "print(train_label[0:10])\n",
    "print(train_label.shape)\n",
    "print(train_data.shape)\n",
    "\n",
    "\n",
    "train_data_alice = np.hstack((train_data[:,[0,1,2,3]], train_label.reshape(-1,1)))\n",
    "train_data_bob = train_data[:,[4,5,6,7,8,9,10,11,12,13,14,15]]\n",
    "test_data_alice = np.hstack((test_data[:,[0,1,2,3]], test_label.reshape(-1,1)))\n",
    "test_data_bob = test_data[:,[4,5,6,7,8,9,10,11,12,13,14,15]]\n",
    "\n",
    "# bob_data = train_data[:,[0,1,2,3,16]]"
   ]
  },
  {
   "cell_type": "markdown",
   "metadata": {},
   "source": [
    "**Summary:** At this stage, we have finished defining `federated tables`, performing `data preprocessing`, and partitioning the `training set` and `test set`.\n",
    "The secretFlow framework defines a set of operations to be built on the federated table (which is the logical counterpart of `pandas.DataFrame`). The secretflow framework defines a set of operations to be built on the federated table (its logical counterpart is `sklearn`) Refer to our documentation and API introduction to learn more about other features."
   ]
  },
  {
   "cell_type": "code",
   "execution_count": 42,
   "metadata": {},
   "outputs": [
    {
     "name": "stdout",
     "output_type": "stream",
     "text": [
      "saving data done!\n"
     ]
    },
    {
     "name": "stderr",
     "output_type": "stream",
     "text": [
      "/home/dengruijun/miniconda3/envs/drj-sf/lib/python3.10/pty.py:89: RuntimeWarning: os.fork() was called. os.fork() is incompatible with multithreaded code, and JAX is multithreaded, so this will likely lead to a deadlock.\n",
      "  pid, fd = os.forkpty()\n"
     ]
    },
    {
     "name": "stdout",
     "output_type": "stream",
     "text": [
      "age,job,marital,education,y\n",
      "0.23529411764705876,0.09090909090909091,0.5,0.3333333333333333,0.0\n",
      "0.1764705882352941,0.36363636363636365,0.5,0.3333333333333333,0.0\n",
      "0.4117647058823529,0.2727272727272727,1.0,0.6666666666666666,1.0\n",
      "0.5735294117647058,0.4545454545454546,0.5,0.3333333333333333,0.0\n",
      "0.48529411764705876,0.8181818181818182,0.5,0.3333333333333333,0.0\n",
      "0.27941176470588236,0.8181818181818182,1.0,0.3333333333333333,0.0\n",
      "0.1764705882352941,0.6363636363636364,1.0,0.3333333333333333,0.0\n",
      "0.16176470588235292,0.09090909090909091,1.0,0.3333333333333333,0.0\n",
      "0.32352941176470584,0.36363636363636365,0.5,0.6666666666666666,0.0\n"
     ]
    }
   ],
   "source": [
    "# 存储数据：\n",
    "# train_data.to_csv('train_data.csv', index=False)\n",
    "# test_data.to_csv('test_data.csv', index=False)\n",
    "# train_label.to_csv('train_label.csv', index=False)\n",
    "# test_label.to_csv('test_label.csv', index=False)\n",
    "data_route = '/home/dengruijun/data/FinTech/DATASET/kaggle-dataset/bank/bank-secretflow/'\n",
    "# 划分alice 和 bob 的数据\n",
    "pd.DataFrame(train_data_alice,columns=alice_columns).to_csv(data_route+'train_data_alice.csv', index=False)\n",
    "pd.DataFrame(train_data_bob,columns=bob_colomns).to_csv(data_route+'train_data_bob.csv', index=False)\n",
    "pd.DataFrame(test_data_alice,columns=alice_columns).to_csv(data_route+'test_data_alice.csv', index=False)\n",
    "pd.DataFrame(test_data_bob,columns=bob_colomns).to_csv(data_route+'test_data_bob.csv', index=False)\n",
    "print(\"saving data done!\")\n",
    "\n",
    "# 打印数据出来看看\n",
    "! head /home/dengruijun/data/FinTech/DATASET/kaggle-dataset/bank/bank-secretflow/train_data_alice.csv"
   ]
  },
  {
   "cell_type": "code",
   "execution_count": 43,
   "metadata": {},
   "outputs": [],
   "source": [
    "# 构造data builder\n",
    "import torch\n",
    "from torch.utils.data import DataLoader, Dataset\n",
    "\n",
    "# transform DataFrame to Dataset\n",
    "\n",
    "class AliceDataset(Dataset):\n",
    "    def __init__(self, df, label_df, vocab_dir):\n",
    "        # self.label_df = df['y']\n",
    "        # self.feature_df = df.drop(columns=['y'])\n",
    "        self.label_df = label_df\n",
    "        self.feature_df = df\n",
    "\n",
    "    def __getitem__(self, index):\n",
    "        X = torch.tensor(self.feature_df.iloc[index]) \n",
    "        y = torch.tensor(int(self.label_df.iloc[index]))\n",
    "\n",
    "        return X,y\n",
    "\n",
    "    def __len__(self):\n",
    "        return len(self.label_df)\n",
    "\n",
    "\n",
    "class BobDataset(Dataset):\n",
    "    def __init__(self, df, vocab_dir):\n",
    "        self.feature_df = df\n",
    "\n",
    "    def __getitem__(self, index):\n",
    "        X = torch.tensor(self.feature_df.iloc[index])\n",
    "        return X\n",
    "\n",
    "    def __len__(self):\n",
    "        return len(self.feature_df)\n",
    "\n",
    "def create_dataset_builder_alice(batch_size=32):\n",
    "    def dataset_builder(x):\n",
    "        data_set = AliceDataset(x[0],x[1],data_route)\n",
    "        dataloader = DataLoader(\n",
    "            dataset=data_set,\n",
    "            batch_size=batch_size,\n",
    "        )\n",
    "        return dataloader\n",
    "\n",
    "    return dataset_builder\n",
    "\n",
    "def create_dataset_builder_bob(batch_size=32):\n",
    "    def dataset_builder(x):\n",
    "        data_set = BobDataset(x[0],data_route)\n",
    "        dataloader = DataLoader(\n",
    "            dataset=data_set,\n",
    "            batch_size=batch_size,\n",
    "        )\n",
    "        return dataloader\n",
    "\n",
    "    return dataset_builder\n",
    "\n",
    "batch_size = 32\n",
    "dataset_buidler_dict = {\n",
    "    alice: create_dataset_builder_alice(batch_size=batch_size),\n",
    "    bob: create_dataset_builder_bob(batch_size=batch_size),\n",
    "}"
   ]
  },
  {
   "cell_type": "code",
   "execution_count": 44,
   "metadata": {},
   "outputs": [
    {
     "data": {
      "text/plain": [
       "3616"
      ]
     },
     "execution_count": 44,
     "metadata": {},
     "output_type": "execute_result"
    }
   ],
   "source": [
    "# 查看一些信息：\n",
    "train_data_alice.shape[0]"
   ]
  },
  {
   "cell_type": "markdown",
   "metadata": {},
   "source": [
    "## 1. Create Secretflow Environment（从这里开始跑起）"
   ]
  },
  {
   "cell_type": "markdown",
   "metadata": {},
   "source": [
    "Create 2 entities in the Secretflow environment [Alice, Bob]  \n",
    "Where 'Alice' and 'Bob' are two `PYU`.  \n",
    "Once you've constructed the two objects, you can happily start Splitting Learning."
   ]
  },
  {
   "cell_type": "code",
   "execution_count": 2,
   "metadata": {},
   "outputs": [
    {
     "name": "stdout",
     "output_type": "stream",
     "text": [
      "ok1\n",
      "ok2\n",
      "ok3\n"
     ]
    }
   ],
   "source": [
    "%load_ext autoreload  \n",
    "%autoreload 2\n",
    "\n",
    "# import os\n",
    "# os.environ['NUMEXPR_MAX_THREADS'] = '48'\n",
    "import secretflow as sf\n",
    "import matplotlib.pyplot as plt\n",
    "\n",
    "# import ray\n",
    "# ray.init(log_to_driver=True)\n",
    "sf.shutdown() # incase of re-run\n",
    "print('ok1')\n",
    "# sf.init(['alice', 'bob'])\n",
    "sf.init(['alice', 'bob'], address='local', num_gpus=2, debug_mode=True) # 注意debug mode是否开启\n",
    "# sf.init(['alice', 'bob'], address='local') # 注意debug mode是否开启\n",
    "print('ok2')\n",
    "alice, bob = sf.PYU('alice'), sf.PYU('bob')\n",
    "print('ok3')\n",
    "\n",
    "# spu = sf.SPU(sf.utils.testing.cluster_def(['alice', 'bob']))\n",
    "# spu = sf.SPU(sf.utils.testing.cluster_def(['alice', 'bob']))"
   ]
  },
  {
   "cell_type": "code",
   "execution_count": 2,
   "metadata": {},
   "outputs": [
    {
     "name": "stdout",
     "output_type": "stream",
     "text": [
      "Number of GPUs Available: 2\n",
      "GPU 0: NVIDIA GeForce RTX 4090\n",
      "GPU 1: NVIDIA GeForce RTX 4090\n"
     ]
    },
    {
     "ename": "",
     "evalue": "",
     "output_type": "error",
     "traceback": [
      "\u001b[1;31mnotebook controller is DISPOSED. \n",
      "\u001b[1;31m有关更多详细信息，请查看 Jupyter <a href='command:jupyter.viewOutput'>log</a>。"
     ]
    }
   ],
   "source": [
    "# 查看GPU硬件：\n",
    "import torch\n",
    "\n",
    "# 检查CUDA是否可用\n",
    "if torch.cuda.is_available():\n",
    "    # 获取GPU数量\n",
    "    num_gpus = torch.cuda.device_count()\n",
    "    print(f\"Number of GPUs Available: {num_gpus}\")\n",
    "    \n",
    "    # 循环打印每个GPU的名字\n",
    "    for i in range(num_gpus):\n",
    "        gpu_name = torch.cuda.get_device_name(i)\n",
    "        print(f\"GPU {i}: {gpu_name}\")\n",
    "else:\n",
    "    print(\"CUDA is not available.\")"
   ]
  },
  {
   "cell_type": "markdown",
   "metadata": {},
   "source": [
    "## 2. Prepare Data"
   ]
  },
  {
   "cell_type": "markdown",
   "metadata": {},
   "source": [
    "**Build Federated Table**\n",
    "\n",
    "\n",
    "Federated table is a virtual concept that cross multiple parties, We define `VDataFrame` for vertical setting\n",
    ".  \n",
    "\n",
    "1. The data of all parties in a federated table is stored locally and is not allowed to go out of the domain.\n",
    "\n",
    "2. No one has access to data store except the party that owns the data.\n",
    "\n",
    "3. Any operation performed on the federated table is scheduled by the driver to each worker, and the execution instructions are delivered layer by layer until the Python runtime of the specific worker. The framework ensures that only the worker with `worker.device` equal to the `Object.device` can operate on the data.\n",
    "\n",
    "4. Federated tables are designed for managing and manipulating multi-party data from a central perspective.\n",
    "\n",
    "5. Interfaces to `Federated Tables` are aligned to `pandas.DataFrame` to reduce the cost of multi-party data operations.\n",
    "\n",
    "6. The SecretFlow framework provides Plain&Ciphertext hybrid programming capabilities. Vertical federated tables are built using `SPU`, and `MPC-PSI` is used to safely get intersection and align data from all parties.\n",
    "\n",
    "<img alt=\"vdataframe.png\" src=\"resources/vdataframe.png\" width=\"600\">  \n",
    "\n"
   ]
  },
  {
   "cell_type": "markdown",
   "metadata": {},
   "source": [
    "VDataFrame provides `read_csv` interface similar to pandas, the difference is that `secretflow.read_csv` receives a dictionary that defines the path of data for both parties. We can use `secretflow.vertical.read_csv` to build the `VDataFrame`.\n",
    "```\n",
    "read_csv(file_dict,delimiter,ppu,keys,drop_key)\n",
    "    filepath: Path of the participant file. The address can be a relative or absolute path to a local file\n",
    "    spu: SPU Device for PSI; If this parameter is not specified, data must be prealigned\n",
    "    keys: Key for intersection.\n",
    "```"
   ]
  },
  {
   "cell_type": "markdown",
   "metadata": {},
   "source": [
    "Create spu object"
   ]
  },
  {
   "cell_type": "code",
   "execution_count": 3,
   "metadata": {},
   "outputs": [
    {
     "ename": "",
     "evalue": "",
     "output_type": "error",
     "traceback": [
      "\u001b[1;31mnotebook controller is DISPOSED. \n",
      "\u001b[1;31m有关更多详细信息，请查看 Jupyter <a href='command:jupyter.viewOutput'>log</a>。"
     ]
    }
   ],
   "source": [
    "# spu = sf.SPU(sf.utils.testing.cluster_def(['alice', 'bob']))"
   ]
  },
  {
   "cell_type": "code",
   "execution_count": 3,
   "metadata": {},
   "outputs": [
    {
     "name": "stderr",
     "output_type": "stream",
     "text": [
      "INFO:root:Create proxy actor <class 'secretflow.data.core.agent.PartitionAgent'> with party alice.\n",
      "INFO:root:Create proxy actor <class 'secretflow.data.core.agent.PartitionAgent'> with party bob.\n",
      "INFO:root:Create proxy actor <class 'secretflow.data.core.agent.PartitionAgent'> with party alice.\n"
     ]
    }
   ],
   "source": [
    "# 分割alice和bob的数据集的schema（不是数据集本身）\n",
    "\n",
    "from secretflow.utils.simulation.datasets import load_bank_marketing\n",
    "\n",
    "# Alice has the first four features,\n",
    "# while bob has the left features\n",
    "data = load_bank_marketing(parts={alice: (0, 4), bob: (4, 16)}, axis=1)\n",
    "# Alice holds the label.\n",
    "label = load_bank_marketing(parts={alice: (16, 17)}, axis=1)\n"
   ]
  },
  {
   "cell_type": "markdown",
   "metadata": {},
   "source": [
    "`data` is a vertically federated table. It only has the `Schema` of all the data globally."
   ]
  },
  {
   "cell_type": "markdown",
   "metadata": {},
   "source": [
    "Let's examine the data management of `VDF` more closely.\n",
    "\n",
    "As shown in the example, the `age` field belongs to `Alice`, so the corresponding column can be obtained from `Alice`'s partition. However, if `Bob` tries to obtain the `age` field, a `KeyError` error will be reported.\n",
    "\n",
    "We have a concept called Partition, which is a defined data fragment. Each partition has its own device to which it belongs, and only the device to which it belongs can operate on its data."
   ]
  },
  {
   "cell_type": "code",
   "execution_count": 9,
   "metadata": {},
   "outputs": [
    {
     "data": {
      "text/plain": [
       "pandas.core.frame.DataFrame"
      ]
     },
     "execution_count": 9,
     "metadata": {},
     "output_type": "execute_result"
    }
   ],
   "source": [
    "type(sf.reveal(data['age'].partitions[alice].data))\n",
    "\n",
    "# num_samples=train_data.values.partition_shape()[alice][0],"
   ]
  },
  {
   "cell_type": "code",
   "execution_count": 6,
   "metadata": {},
   "outputs": [],
   "source": [
    "# You can uncomment this and you will get a KeyError.\n",
    "# data['age'].partitions[bob]"
   ]
  },
  {
   "cell_type": "markdown",
   "metadata": {},
   "source": [
    "Next, we perform data preprocessing on the `VDataFrame`.   \n",
    "We use LabelEncoder and MinMaxScaler as examples. These two preprocessing functions have corresponding concepts in SkLearn, and their usage methods are similar to those in **sklearn**."
   ]
  },
  {
   "cell_type": "code",
   "execution_count": 7,
   "metadata": {},
   "outputs": [],
   "source": [
    "from secretflow.preprocessing.scaler import MinMaxScaler\n",
    "from secretflow.preprocessing.encoder import LabelEncoder"
   ]
  },
  {
   "cell_type": "code",
   "execution_count": 8,
   "metadata": {},
   "outputs": [],
   "source": [
    "# 类别类编码\n",
    "encoder = LabelEncoder()\n",
    "data['job'] = encoder.fit_transform(data['job'])\n",
    "data['marital'] = encoder.fit_transform(data['marital'])\n",
    "data['education'] = encoder.fit_transform(data['education'])\n",
    "data['default'] = encoder.fit_transform(data['default'])\n",
    "data['housing'] = encoder.fit_transform(data['housing'])\n",
    "data['loan'] = encoder.fit_transform(data['loan'])\n",
    "data['contact'] = encoder.fit_transform(data['contact'])\n",
    "data['poutcome'] = encoder.fit_transform(data['poutcome'])\n",
    "data['month'] = encoder.fit_transform(data['month'])\n",
    "label = encoder.fit_transform(label)"
   ]
  },
  {
   "cell_type": "code",
   "execution_count": 9,
   "metadata": {},
   "outputs": [
    {
     "name": "stdout",
     "output_type": "stream",
     "text": [
      "label= <class 'secretflow.data.vertical.dataframe.VDataFrame'>,\n",
      "data = <class 'secretflow.data.vertical.dataframe.VDataFrame'>\n"
     ]
    }
   ],
   "source": [
    "print(f\"label= {type(label)},\\ndata = {type(data)}\")"
   ]
  },
  {
   "cell_type": "markdown",
   "metadata": {},
   "source": [
    "Standardize data via MinMaxScaler"
   ]
  },
  {
   "cell_type": "code",
   "execution_count": 10,
   "metadata": {},
   "outputs": [
    {
     "name": "stdout",
     "output_type": "stream",
     "text": [
      "['age', 'job', 'marital', 'education', 'default', 'balance', 'housing', 'loan', 'contact', 'day', 'month', 'duration', 'campaign', 'pdays', 'previous', 'poutcome']\n",
      "VDataFrame(partitions={PYURuntime(alice): <secretflow.data.core.partition.Partition object at 0x7efb847a4610>, PYURuntime(bob): <secretflow.data.core.partition.Partition object at 0x7efb847a4370>}, aligned=True)\n",
      "{PYURuntime(alice): <secretflow.data.core.partition.Partition object at 0x7efb847a4610>, PYURuntime(bob): <secretflow.data.core.partition.Partition object at 0x7efb847a4370>}\n",
      "['age', 'job', 'marital', 'education', 'default', 'balance', 'housing', 'loan', 'contact', 'day', 'month', 'duration', 'campaign', 'pdays', 'previous', 'poutcome']\n",
      "{PYURuntime(alice): ['age', 'job', 'marital', 'education'], PYURuntime(bob): ['default', 'balance', 'housing', 'loan', 'contact', 'day', 'month', 'duration', 'campaign', 'pdays', 'previous', 'poutcome']}\n",
      "data.dtypes:  {'age': dtype('float64'), 'job': dtype('float64'), 'marital': dtype('float64'), 'education': dtype('float64'), 'default': dtype('float64'), 'balance': dtype('float64'), 'housing': dtype('float64'), 'loan': dtype('float64'), 'contact': dtype('float64'), 'day': dtype('float64'), 'month': dtype('float64'), 'duration': dtype('float64'), 'campaign': dtype('float64'), 'pdays': dtype('float64'), 'previous': dtype('float64'), 'poutcome': dtype('float64')}\n",
      "label.dtypes:  {'y': dtype('int64')}\n"
     ]
    },
    {
     "name": "stderr",
     "output_type": "stream",
     "text": [
      "/home/dengruijun/miniconda3/envs/drj-sf/lib/python3.10/site-packages/sklearn/base.py:458: UserWarning: X has feature names, but MinMaxScaler was fitted without feature names\n",
      "  warnings.warn(\n",
      "/home/dengruijun/miniconda3/envs/drj-sf/lib/python3.10/site-packages/sklearn/base.py:458: UserWarning: X has feature names, but MinMaxScaler was fitted without feature names\n",
      "  warnings.warn(\n"
     ]
    }
   ],
   "source": [
    "# 归一化、 打印数据信息 \n",
    "scaler = MinMaxScaler()\n",
    "\n",
    "data = scaler.fit_transform(data)\n",
    "# data.astype('float32')\n",
    "# print('type(data)=', type(data))\n",
    "print(data.columns)\n",
    "# print(data['job'].loc[0:0])\n",
    "\n",
    "# print(data[alice].shape)\n",
    "print(data)\n",
    "print(data.partitions)\n",
    "print(data.columns) # alice和bob的数据集的列名（总的列表）\n",
    "print(data.partition_columns) # alice和bob的数据集的列名（分别）\n",
    "print(\"data.dtypes: \",data.dtypes)\n",
    "print('label.dtypes: ', label.dtypes)"
   ]
  },
  {
   "cell_type": "code",
   "execution_count": 11,
   "metadata": {},
   "outputs": [
    {
     "name": "stdout",
     "output_type": "stream",
     "text": [
      "['age', 'job', 'marital', 'education', 'default', 'balance', 'housing', 'loan', 'contact', 'day', 'month', 'duration', 'campaign', 'pdays', 'previous', 'poutcome']\n",
      "data.dtypes:  {'age': dtype('float32'), 'job': dtype('float32'), 'marital': dtype('float32'), 'education': dtype('float32'), 'default': dtype('float32'), 'balance': dtype('float32'), 'housing': dtype('float32'), 'loan': dtype('float32'), 'contact': dtype('float32'), 'day': dtype('float32'), 'month': dtype('float32'), 'duration': dtype('float32'), 'campaign': dtype('float32'), 'pdays': dtype('float32'), 'previous': dtype('float32'), 'poutcome': dtype('float32')}\n",
      "label.dtypes:  {'y': dtype('float32')}\n"
     ]
    }
   ],
   "source": [
    "# 转换dtypes\n",
    "# float64 to float32\n",
    "float64_colomns = data.select_dtypes(include=['float64']).columns\n",
    "print(float64_colomns)\n",
    "data[float64_colomns] = data[float64_colomns].astype('float32')\n",
    "\n",
    "label=label.astype('float32')\n",
    "\n",
    "print(\"data.dtypes: \",data.dtypes)\n",
    "print(\"label.dtypes: \",label.dtypes)"
   ]
  },
  {
   "cell_type": "markdown",
   "metadata": {},
   "source": [
    "Next we divide the data set into train-set and test-set."
   ]
  },
  {
   "cell_type": "code",
   "execution_count": 12,
   "metadata": {},
   "outputs": [
    {
     "name": "stdout",
     "output_type": "stream",
     "text": [
      "3616\n"
     ]
    }
   ],
   "source": [
    "from secretflow.data.split import train_test_split\n",
    "\n",
    "random_state = 1234\n",
    "train_data, test_data = train_test_split(\n",
    "    data, train_size=0.8, random_state=random_state\n",
    ")\n",
    "train_label, test_label = train_test_split(\n",
    "    label, train_size=0.8, random_state=random_state\n",
    ")\n",
    "\n",
    "print(train_data.values.partition_shape()[alice][0],) # 总的样本数目\n",
    "# 存储数据：\n",
    "# train_data.to_csv('train_data.csv', index=False)"
   ]
  },
  {
   "cell_type": "markdown",
   "metadata": {},
   "source": [
    "**Summary:** At this stage, we have finished defining `federated tables`, performing `data preprocessing`, and partitioning the `training set` and `test set`.\n",
    "The secretFlow framework defines a set of operations to be built on the federated table (which is the logical counterpart of `pandas.DataFrame`). The secretflow framework defines a set of operations to be built on the federated table (its logical counterpart is `sklearn`) Refer to our documentation and API introduction to learn more about other features."
   ]
  },
  {
   "cell_type": "markdown",
   "metadata": {},
   "source": [
    "## 3. Introduce Model"
   ]
  },
  {
   "cell_type": "markdown",
   "metadata": {},
   "source": [
    "**local version**: \n",
    "For this task, a simple DNN can be trained to take in 16-dimensional features, process them through a neural network, and output the probability of positive and negative samples.\n",
    "\n",
    "\n",
    "**Federate version**:  \n",
    "\n",
    "* Alice:  \n",
    "\n",
    "    - base_net: Input 4-dimensional feature and go through a DNN network to get hidden.  \n",
    "    \n",
    "    - fuse_net: Receive hidden features calculated by Alice and Bob, input them to fusenet for feature fusion, and complete the forward process and backward process.  \n",
    "    \n",
    "* Bob:  \n",
    "\n",
    "    - base_net: Input 12-dimensional features, get hidden through a DNN network, and then send hidden to Alice to complete the following operation.  \n"
   ]
  },
  {
   "cell_type": "markdown",
   "metadata": {},
   "source": [
    "### Define Model"
   ]
  },
  {
   "cell_type": "markdown",
   "metadata": {},
   "source": [
    "Next, we will start creating the federated model.  \n",
    "\n",
    "We have defined the SLTFModel and SLTorchModel, which are used to build split learning for vertically partitioned data. We have also created a simple and easy-to-use extensible interface, allowing you to easily transform your existing model into an SF-Model and perform vertically partitioned federated modeling."
   ]
  },
  {
   "cell_type": "markdown",
   "metadata": {},
   "source": [
    "Split learning is to break up a model so that one part is executed locally on the data and the other part is executed on the label side.\n",
    "First let's define the locally executed model -- base_model."
   ]
  },
  {
   "cell_type": "code",
   "execution_count": 13,
   "metadata": {},
   "outputs": [],
   "source": [
    "# torch相关\n",
    "from secretflow.ml.nn.core.torch import (\n",
    "    metric_wrapper,\n",
    "    optim_wrapper,\n",
    "    BaseModule,\n",
    "    TorchModel,\n",
    ")\n",
    "from torchmetrics import Accuracy, Precision\n",
    "from secretflow.security.aggregation import SecureAggregator\n",
    "from secretflow.utils.simulation.datasets import load_mnist\n",
    "from torch import nn, optim\n",
    "from torch.nn import functional as F\n",
    "import torch\n",
    "\n",
    "from secretflow.ml.nn import SLModel"
   ]
  },
  {
   "cell_type": "code",
   "execution_count": 14,
   "metadata": {},
   "outputs": [],
   "source": [
    "class DenseNet(nn.Module):\n",
    "    def __init__(self,input_dim, output_dim):\n",
    "        super().__init__()\n",
    "        self.fc1 = nn.Linear(input_dim, 100)\n",
    "        self.relu1 = nn.ReLU()\n",
    "        self.fc2 = nn.Linear(100, output_dim)\n",
    "        self.relu2 = nn.ReLU()\n",
    "\n",
    "        self.output_num_value = output_dim\n",
    "        \n",
    "    def forward(self,x):\n",
    "        x = self.fc1(x)\n",
    "        x = self.relu1(x)\n",
    "        x = self.fc2(x)\n",
    "        x = self.relu2(x)\n",
    "        return x\n",
    "\n",
    "    def output_num(self): # 学习 secretflow/ml/nn/applications/sl_dnn_torch.py\n",
    "        return 1"
   ]
  },
  {
   "cell_type": "code",
   "execution_count": 15,
   "metadata": {},
   "outputs": [],
   "source": [
    "# prepare model\n",
    "hidden_size = 64\n",
    "\n",
    "def model_base_alice_fn():\n",
    "    def create_model():\n",
    "        return DenseNet(input_dim=4, output_dim=hidden_size)\n",
    "    return create_model\n",
    "\n",
    "def model_base_bob_fn():\n",
    "    def create_model():\n",
    "        return DenseNet(input_dim=12, output_dim=hidden_size)\n",
    "    return create_model\n",
    "\n",
    "model_base_alice = TorchModel(\n",
    "    model_fn=model_base_alice_fn(),\n",
    "    loss_fn=nn.BCELoss,\n",
    "    optim_fn = optim_wrapper(optim.Adam),\n",
    "    metrics = [\n",
    "    metric_wrapper(Accuracy, task='binary',),\n",
    "    metric_wrapper(Precision, task='binary',),\n",
    "    ],\n",
    "    # input_dim=4, output_dim=hidden_size,\n",
    "    )\n",
    "\n",
    "model_base_bob = TorchModel(\n",
    "    model_fn=model_base_bob_fn(),\n",
    "    loss_fn=nn.BCELoss,\n",
    "    optim_fn = optim_wrapper(optim.Adam),\n",
    "    metrics = [\n",
    "    metric_wrapper(Accuracy, task='binary',),\n",
    "    metric_wrapper(Precision, task='binary',),\n",
    "    ],\n",
    "    # input_dim=12, output_dim=hidden_size,\n",
    "    )"
   ]
  },
  {
   "cell_type": "markdown",
   "metadata": {},
   "source": [
    "We use create_base_model to create their base models for 'Alice' and 'Bob', respectively."
   ]
  },
  {
   "cell_type": "markdown",
   "metadata": {},
   "source": [
    "Next we define the side with the label, or the server-side model -- fuse_model\n",
    "In the definition of fuse_model, we need to correctly define `loss`, `optimizer`, and `metrics`. This is compatible with all configurations of your existing Keras model."
   ]
  },
  {
   "cell_type": "code",
   "execution_count": 16,
   "metadata": {},
   "outputs": [],
   "source": [
    "class DenseFuseNet(BaseModule):\n",
    "    def __init__(self,input_dim, output_dim, party_num):\n",
    "        super().__init__()\n",
    "\n",
    "        # layers = []\n",
    "        # for i in range(party_num):\n",
    "            # layers.append(nn.Linear(input_dim, output_dim))\n",
    "        nn_layers = []\n",
    "        self.total_input_dim = input_dim * party_num\n",
    "        self.fc1 = nn.Linear(self.total_input_dim, 64)\n",
    "        self.relu1 = nn.ReLU()\n",
    "        self.fc2 = nn.Linear(64, output_dim)\n",
    "        self.sigmoid = nn.Sigmoid()\n",
    "        \n",
    "    def forward(self,x):\n",
    "        if isinstance(x, list):\n",
    "            x = torch.cat(x,dim=1)\n",
    "        x = self.fc1(x)\n",
    "        x = self.relu1(x)\n",
    "        x = self.fc2(x)\n",
    "        x = self.sigmoid(x)\n",
    "        return x"
   ]
  },
  {
   "cell_type": "code",
   "execution_count": 17,
   "metadata": {},
   "outputs": [],
   "source": [
    "# model_fuse = DenseFuseNet(input_dim=64, output_dim=1, party_num=2)\n",
    "def model_fuse_fn():\n",
    "    def create_model():\n",
    "        return DenseFuseNet(input_dim=64, output_dim=1, party_num=2)\n",
    "    return create_model\n",
    "\n",
    "model_fuse = TorchModel(\n",
    "    model_fn=model_fuse_fn(),\n",
    "    loss_fn=nn.BCELoss,\n",
    "    optim_fn = optim_wrapper(optim.Adam),\n",
    "    metrics = [\n",
    "    metric_wrapper(Accuracy, task='binary',),\n",
    "    metric_wrapper(Precision, task='binary',),\n",
    "    ],\n",
    "    # input_dim=64, output_dim=1, party_num=2,\n",
    "    )"
   ]
  },
  {
   "cell_type": "markdown",
   "metadata": {},
   "source": [
    "### Create Split Learning Model  \n",
    "Secretflow provides the split learning model `SLModel`.  \n",
    "To initial SLModel only need 3 parameters.  \n",
    "\n",
    "* base_model_dict: A dictionary needs to be passed in all clients participating in the training along with base_model mappings  \n",
    "* device_y: PYU, which device has label  \n",
    "* model_fuse: The fusion model  "
   ]
  },
  {
   "cell_type": "markdown",
   "metadata": {},
   "source": [
    "Define base_model_dict.  \n",
    "```python\n",
    "base_model_dict:Dict[PYU,model_fn]\n",
    "```"
   ]
  },
  {
   "cell_type": "code",
   "execution_count": 18,
   "metadata": {},
   "outputs": [],
   "source": [
    "base_model_dict = {alice: model_base_alice, bob: model_base_bob}"
   ]
  },
  {
   "cell_type": "code",
   "execution_count": 19,
   "metadata": {},
   "outputs": [],
   "source": [
    "# 用了差分隐私机制 这块纯差分隐私的内容，没有训练相关的\n",
    "from secretflow.security.privacy import DPStrategy, LabelDP\n",
    "# from secretflow.security.privacy.mechanism.tensorflow import GaussianEmbeddingDP\n",
    "from secretflow.security.privacy.mechanism.torch import GaussianEmbeddingDP \n",
    "\n",
    "# Define DP operations\n",
    "train_batch_size = 128\n",
    "gaussian_embedding_dp = GaussianEmbeddingDP(\n",
    "    noise_multiplier=0.5, # epsilon for pure DP\n",
    "    l2_norm_clip=1.0, # clipping norm to the parameters or gradients\n",
    "    batch_size=train_batch_size,\n",
    "    # num_samples=train_data.values.partition_shape()[alice][0],\n",
    "    num_samples=train_data.values.partition_shape()[alice][0],\n",
    "    # num_samples = train_data_alice.shape[0], # 总的样本数目\n",
    "\n",
    "    is_secure_generator=False, # whether use the secure generator to generate noise\n",
    ")\n",
    "\n",
    "# Define DP strategy\n",
    "label_dp = LabelDP(eps=64.0)\n",
    "dp_strategy_alice = DPStrategy(label_dp=label_dp)\n",
    "dp_strategy_bob = DPStrategy(embedding_dp=gaussian_embedding_dp)\n",
    "dp_strategy_dict = {alice: dp_strategy_alice, bob: dp_strategy_bob}\n",
    "dp_spent_step_freq = 10"
   ]
  },
  {
   "cell_type": "code",
   "execution_count": 20,
   "metadata": {},
   "outputs": [
    {
     "name": "stderr",
     "output_type": "stream",
     "text": [
      "INFO:root:Create proxy actor <class 'secretflow.ml.nn.sl.backend.torch.strategy.split_nn.PYUSLTorchModel'> with party alice.\n",
      "INFO:root:Create proxy actor <class 'secretflow.ml.nn.sl.backend.torch.strategy.split_nn.PYUSLTorchModel'> with party bob.\n"
     ]
    }
   ],
   "source": [
    "# SL框架\n",
    "sl_model = SLModel(\n",
    "    base_model_dict=base_model_dict, # Basemodel dictionary, key is PYU, value is the Basemodel defined by party.\n",
    "    device_y=alice, # Define which model have label.\n",
    "    model_fuse=model_fuse, # Fuse model definition.\n",
    "    # dp_strategy_dict=dp_strategy_dict, # 不使用DP\n",
    "    backend='torch', # name of backend engine, tensorflow or torch, default tensorflow\n",
    "    num_gpus=2, # if is debug model of sf\n",
    "    random_seed=1234,\n",
    ")"
   ]
  },
  {
   "cell_type": "code",
   "execution_count": 21,
   "metadata": {},
   "outputs": [
    {
     "data": {
      "text/plain": [
       "(          age       job  marital  education\n",
       " 0    0.279412  0.181818      0.5   0.333333\n",
       " 1    0.176471  0.636364      1.0   0.333333\n",
       " 2    0.264706  0.000000      0.5   0.666667\n",
       " 3    0.338235  0.000000      0.5   0.333333\n",
       " 4    0.132353  0.909091      1.0   0.333333\n",
       " ..        ...       ...      ...        ...\n",
       " 900  0.264706  0.818182      1.0   0.333333\n",
       " 901  0.544118  0.090909      0.0   0.000000\n",
       " 902  0.455882  0.090909      0.5   0.000000\n",
       " 903  0.485294  0.090909      0.5   0.333333\n",
       " 904  0.455882  0.636364      0.5   0.333333\n",
       " \n",
       " [905 rows x 4 columns],\n",
       "        y\n",
       " 0    0.0\n",
       " 1    0.0\n",
       " 2    0.0\n",
       " 3    0.0\n",
       " 4    0.0\n",
       " ..   ...\n",
       " 900  0.0\n",
       " 901  0.0\n",
       " 902  0.0\n",
       " 903  0.0\n",
       " 904  0.0\n",
       " \n",
       " [905 rows x 1 columns])"
      ]
     },
     "execution_count": 21,
     "metadata": {},
     "output_type": "execute_result"
    }
   ],
   "source": [
    "# 本来有的被我注释了\n",
    "sf.reveal(test_data.partitions[alice].data), sf.reveal(test_label.partitions[alice].data)"
   ]
  },
  {
   "cell_type": "code",
   "execution_count": 22,
   "metadata": {},
   "outputs": [],
   "source": [
    "# 本来有的被我注释了\n",
    "# sf.reveal(train_data.partitions[alice].data), sf.reveal(train_label.partitions[alice].data)"
   ]
  },
  {
   "cell_type": "code",
   "execution_count": 23,
   "metadata": {},
   "outputs": [
    {
     "data": {
      "text/html": [
       "<div>\n",
       "<style scoped>\n",
       "    .dataframe tbody tr th:only-of-type {\n",
       "        vertical-align: middle;\n",
       "    }\n",
       "\n",
       "    .dataframe tbody tr th {\n",
       "        vertical-align: top;\n",
       "    }\n",
       "\n",
       "    .dataframe thead th {\n",
       "        text-align: right;\n",
       "    }\n",
       "</style>\n",
       "<table border=\"1\" class=\"dataframe\">\n",
       "  <thead>\n",
       "    <tr style=\"text-align: right;\">\n",
       "      <th></th>\n",
       "      <th>default</th>\n",
       "      <th>balance</th>\n",
       "      <th>housing</th>\n",
       "      <th>loan</th>\n",
       "      <th>contact</th>\n",
       "      <th>day</th>\n",
       "      <th>month</th>\n",
       "      <th>duration</th>\n",
       "      <th>campaign</th>\n",
       "      <th>pdays</th>\n",
       "      <th>previous</th>\n",
       "      <th>poutcome</th>\n",
       "    </tr>\n",
       "  </thead>\n",
       "  <tbody>\n",
       "    <tr>\n",
       "      <th>0</th>\n",
       "      <td>0.0</td>\n",
       "      <td>0.046577</td>\n",
       "      <td>0.0</td>\n",
       "      <td>1.0</td>\n",
       "      <td>0.0</td>\n",
       "      <td>0.466667</td>\n",
       "      <td>0.727273</td>\n",
       "      <td>0.017544</td>\n",
       "      <td>0.204082</td>\n",
       "      <td>0.420872</td>\n",
       "      <td>0.04</td>\n",
       "      <td>0.333333</td>\n",
       "    </tr>\n",
       "    <tr>\n",
       "      <th>1</th>\n",
       "      <td>0.0</td>\n",
       "      <td>0.072254</td>\n",
       "      <td>0.0</td>\n",
       "      <td>0.0</td>\n",
       "      <td>0.0</td>\n",
       "      <td>0.933333</td>\n",
       "      <td>0.090909</td>\n",
       "      <td>0.104270</td>\n",
       "      <td>0.020408</td>\n",
       "      <td>0.000000</td>\n",
       "      <td>0.00</td>\n",
       "      <td>1.000000</td>\n",
       "    </tr>\n",
       "    <tr>\n",
       "      <th>2</th>\n",
       "      <td>0.0</td>\n",
       "      <td>0.055221</td>\n",
       "      <td>0.0</td>\n",
       "      <td>0.0</td>\n",
       "      <td>0.0</td>\n",
       "      <td>0.333333</td>\n",
       "      <td>0.090909</td>\n",
       "      <td>0.108242</td>\n",
       "      <td>0.122449</td>\n",
       "      <td>0.000000</td>\n",
       "      <td>0.00</td>\n",
       "      <td>1.000000</td>\n",
       "    </tr>\n",
       "    <tr>\n",
       "      <th>3</th>\n",
       "      <td>0.0</td>\n",
       "      <td>0.044469</td>\n",
       "      <td>0.0</td>\n",
       "      <td>0.0</td>\n",
       "      <td>1.0</td>\n",
       "      <td>0.600000</td>\n",
       "      <td>0.545455</td>\n",
       "      <td>0.121152</td>\n",
       "      <td>0.000000</td>\n",
       "      <td>0.000000</td>\n",
       "      <td>0.00</td>\n",
       "      <td>1.000000</td>\n",
       "    </tr>\n",
       "    <tr>\n",
       "      <th>4</th>\n",
       "      <td>0.0</td>\n",
       "      <td>0.044684</td>\n",
       "      <td>0.0</td>\n",
       "      <td>0.0</td>\n",
       "      <td>0.0</td>\n",
       "      <td>0.366667</td>\n",
       "      <td>0.090909</td>\n",
       "      <td>0.038067</td>\n",
       "      <td>0.061224</td>\n",
       "      <td>0.000000</td>\n",
       "      <td>0.00</td>\n",
       "      <td>1.000000</td>\n",
       "    </tr>\n",
       "    <tr>\n",
       "      <th>...</th>\n",
       "      <td>...</td>\n",
       "      <td>...</td>\n",
       "      <td>...</td>\n",
       "      <td>...</td>\n",
       "      <td>...</td>\n",
       "      <td>...</td>\n",
       "      <td>...</td>\n",
       "      <td>...</td>\n",
       "      <td>...</td>\n",
       "      <td>...</td>\n",
       "      <td>...</td>\n",
       "      <td>...</td>\n",
       "    </tr>\n",
       "    <tr>\n",
       "      <th>900</th>\n",
       "      <td>1.0</td>\n",
       "      <td>0.049503</td>\n",
       "      <td>0.0</td>\n",
       "      <td>0.0</td>\n",
       "      <td>1.0</td>\n",
       "      <td>0.266667</td>\n",
       "      <td>0.545455</td>\n",
       "      <td>0.072493</td>\n",
       "      <td>0.020408</td>\n",
       "      <td>0.000000</td>\n",
       "      <td>0.00</td>\n",
       "      <td>1.000000</td>\n",
       "    </tr>\n",
       "    <tr>\n",
       "      <th>901</th>\n",
       "      <td>0.0</td>\n",
       "      <td>0.085019</td>\n",
       "      <td>0.0</td>\n",
       "      <td>0.0</td>\n",
       "      <td>1.0</td>\n",
       "      <td>0.266667</td>\n",
       "      <td>0.545455</td>\n",
       "      <td>0.137372</td>\n",
       "      <td>0.020408</td>\n",
       "      <td>0.000000</td>\n",
       "      <td>0.00</td>\n",
       "      <td>1.000000</td>\n",
       "    </tr>\n",
       "    <tr>\n",
       "      <th>902</th>\n",
       "      <td>0.0</td>\n",
       "      <td>0.044456</td>\n",
       "      <td>0.0</td>\n",
       "      <td>0.0</td>\n",
       "      <td>0.0</td>\n",
       "      <td>0.600000</td>\n",
       "      <td>0.090909</td>\n",
       "      <td>0.063224</td>\n",
       "      <td>0.020408</td>\n",
       "      <td>0.000000</td>\n",
       "      <td>0.00</td>\n",
       "      <td>1.000000</td>\n",
       "    </tr>\n",
       "    <tr>\n",
       "      <th>903</th>\n",
       "      <td>0.0</td>\n",
       "      <td>0.059462</td>\n",
       "      <td>1.0</td>\n",
       "      <td>0.0</td>\n",
       "      <td>0.0</td>\n",
       "      <td>0.400000</td>\n",
       "      <td>0.727273</td>\n",
       "      <td>0.119497</td>\n",
       "      <td>0.000000</td>\n",
       "      <td>0.000000</td>\n",
       "      <td>0.00</td>\n",
       "      <td>1.000000</td>\n",
       "    </tr>\n",
       "    <tr>\n",
       "      <th>904</th>\n",
       "      <td>0.0</td>\n",
       "      <td>0.047879</td>\n",
       "      <td>1.0</td>\n",
       "      <td>0.0</td>\n",
       "      <td>0.0</td>\n",
       "      <td>0.466667</td>\n",
       "      <td>0.000000</td>\n",
       "      <td>0.130089</td>\n",
       "      <td>0.020408</td>\n",
       "      <td>0.387615</td>\n",
       "      <td>0.04</td>\n",
       "      <td>0.000000</td>\n",
       "    </tr>\n",
       "  </tbody>\n",
       "</table>\n",
       "<p>905 rows × 12 columns</p>\n",
       "</div>"
      ],
      "text/plain": [
       "     default   balance  housing  loan  contact       day     month  duration  \\\n",
       "0        0.0  0.046577      0.0   1.0      0.0  0.466667  0.727273  0.017544   \n",
       "1        0.0  0.072254      0.0   0.0      0.0  0.933333  0.090909  0.104270   \n",
       "2        0.0  0.055221      0.0   0.0      0.0  0.333333  0.090909  0.108242   \n",
       "3        0.0  0.044469      0.0   0.0      1.0  0.600000  0.545455  0.121152   \n",
       "4        0.0  0.044684      0.0   0.0      0.0  0.366667  0.090909  0.038067   \n",
       "..       ...       ...      ...   ...      ...       ...       ...       ...   \n",
       "900      1.0  0.049503      0.0   0.0      1.0  0.266667  0.545455  0.072493   \n",
       "901      0.0  0.085019      0.0   0.0      1.0  0.266667  0.545455  0.137372   \n",
       "902      0.0  0.044456      0.0   0.0      0.0  0.600000  0.090909  0.063224   \n",
       "903      0.0  0.059462      1.0   0.0      0.0  0.400000  0.727273  0.119497   \n",
       "904      0.0  0.047879      1.0   0.0      0.0  0.466667  0.000000  0.130089   \n",
       "\n",
       "     campaign     pdays  previous  poutcome  \n",
       "0    0.204082  0.420872      0.04  0.333333  \n",
       "1    0.020408  0.000000      0.00  1.000000  \n",
       "2    0.122449  0.000000      0.00  1.000000  \n",
       "3    0.000000  0.000000      0.00  1.000000  \n",
       "4    0.061224  0.000000      0.00  1.000000  \n",
       "..        ...       ...       ...       ...  \n",
       "900  0.020408  0.000000      0.00  1.000000  \n",
       "901  0.020408  0.000000      0.00  1.000000  \n",
       "902  0.020408  0.000000      0.00  1.000000  \n",
       "903  0.000000  0.000000      0.00  1.000000  \n",
       "904  0.020408  0.387615      0.04  0.000000  \n",
       "\n",
       "[905 rows x 12 columns]"
      ]
     },
     "execution_count": 23,
     "metadata": {},
     "output_type": "execute_result"
    }
   ],
   "source": [
    "sf.reveal(test_data.partitions[bob].data)"
   ]
  },
  {
   "cell_type": "code",
   "execution_count": 24,
   "metadata": {},
   "outputs": [],
   "source": [
    "# 提取数据集&模型 # drj自定义数据集\n",
    "# from secretflow.data.vertical import read_csv\n",
    "# vdf_train = read_csv({\n",
    "#     alice: data_route+'train_data_alice.csv',\n",
    "#     bob: data_route+'train_data_bob.csv',\n",
    "# })\n",
    "# train_label = vdf_train['y']\n",
    "# train_data = vdf_train.drop(columns=['y'])\n",
    "\n",
    "# vdf_test = read_csv({\n",
    "#     alice: data_route+'test_data_alice.csv',\n",
    "#     bob: data_route+'test_data_bob.csv',\n",
    "# })\n",
    "# test_label = vdf_test['y']\n",
    "# test_data = vdf_test.drop(columns=['y'])"
   ]
  },
  {
   "cell_type": "code",
   "execution_count": 25,
   "metadata": {},
   "outputs": [
    {
     "name": "stderr",
     "output_type": "stream",
     "text": [
      "INFO:root:SL Train Params: {'self': <secretflow.ml.nn.sl.sl_model.SLModel object at 0x7efb842733d0>, 'x': VDataFrame(partitions={PYURuntime(alice): <secretflow.data.core.partition.Partition object at 0x7efb84575e40>, PYURuntime(bob): <secretflow.data.core.partition.Partition object at 0x7efb847a4670>}, aligned=True), 'y': VDataFrame(partitions={PYURuntime(alice): <secretflow.data.core.partition.Partition object at 0x7efb84576ce0>}, aligned=True), 'batch_size': 128, 'epochs': 10, 'verbose': 1, 'callbacks': None, 'validation_data': (VDataFrame(partitions={PYURuntime(alice): <secretflow.data.core.partition.Partition object at 0x7efb84575e40>, PYURuntime(bob): <secretflow.data.core.partition.Partition object at 0x7efb847a4670>}, aligned=True), VDataFrame(partitions={PYURuntime(alice): <secretflow.data.core.partition.Partition object at 0x7efb84576ce0>}, aligned=True)), 'shuffle': False, 'sample_weight': None, 'validation_freq': 1, 'dp_spent_step_freq': None, 'dataset_builder': None, 'audit_log_params': {}, 'early_stopping_batch_step': 0, 'early_stopping_warmup_step': 0, 'random_seed': 43403, 'audit_log_dir': None}\n",
      "Train Processing: :   0%|          | 0/29 [00:00<?, ?it/s]"
     ]
    },
    {
     "name": "stdout",
     "output_type": "stream",
     "text": [
      "Epoch 1/10\n"
     ]
    },
    {
     "name": "stderr",
     "output_type": "stream",
     "text": [
      "Train Processing: :  97%|█████████▋| 28/29 [00:00<00:00, 32.25it/s, {'train_loss': array(0.3752721, dtype=float32), 'train_BinaryAccuracy': array(0.7942478, dtype=float32), 'train_BinaryPrecision': array(0.09375, dtype=float32), 'val_loss': array(0.37760878, dtype=float32), 'val_BinaryAccuracy': array(0.88772124, dtype=float32), 'val_BinaryPrecision': array(0., dtype=float32)}]\n",
      "Train Processing: :  28%|██▊       | 8/29 [00:00<00:00, 72.90it/s]"
     ]
    },
    {
     "name": "stdout",
     "output_type": "stream",
     "text": [
      "Epoch 2/10\n"
     ]
    },
    {
     "name": "stderr",
     "output_type": "stream",
     "text": [
      "Train Processing: :  97%|█████████▋| 28/29 [00:00<00:00, 55.13it/s, {'train_loss': array(0.3536408, dtype=float32), 'train_BinaryAccuracy': array(0.88772124, dtype=float32), 'train_BinaryPrecision': array(0., dtype=float32), 'val_loss': array(0.35262138, dtype=float32), 'val_BinaryAccuracy': array(0.88772124, dtype=float32), 'val_BinaryPrecision': array(0., dtype=float32)}]\n",
      "Train Processing: :  28%|██▊       | 8/29 [00:00<00:00, 74.00it/s]"
     ]
    },
    {
     "name": "stdout",
     "output_type": "stream",
     "text": [
      "Epoch 3/10\n"
     ]
    },
    {
     "name": "stderr",
     "output_type": "stream",
     "text": [
      "Train Processing: :  97%|█████████▋| 28/29 [00:00<00:00, 55.85it/s, {'train_loss': array(0.32780737, dtype=float32), 'train_BinaryAccuracy': array(0.88772124, dtype=float32), 'train_BinaryPrecision': array(0., dtype=float32), 'val_loss': array(0.32710612, dtype=float32), 'val_BinaryAccuracy': array(0.88772124, dtype=float32), 'val_BinaryPrecision': array(0., dtype=float32)}]\n",
      "Train Processing: :  28%|██▊       | 8/29 [00:00<00:00, 76.31it/s]"
     ]
    },
    {
     "name": "stdout",
     "output_type": "stream",
     "text": [
      "Epoch 4/10\n"
     ]
    },
    {
     "name": "stderr",
     "output_type": "stream",
     "text": [
      "Train Processing: :  97%|█████████▋| 28/29 [00:00<00:00, 56.46it/s, {'train_loss': array(0.30225176, dtype=float32), 'train_BinaryAccuracy': array(0.88772124, dtype=float32), 'train_BinaryPrecision': array(0., dtype=float32), 'val_loss': array(0.30151674, dtype=float32), 'val_BinaryAccuracy': array(0.88772124, dtype=float32), 'val_BinaryPrecision': array(0., dtype=float32)}]\n",
      "Train Processing: :  28%|██▊       | 8/29 [00:00<00:00, 74.71it/s]"
     ]
    },
    {
     "name": "stdout",
     "output_type": "stream",
     "text": [
      "Epoch 5/10\n"
     ]
    },
    {
     "name": "stderr",
     "output_type": "stream",
     "text": [
      "Train Processing: :  97%|█████████▋| 28/29 [00:00<00:00, 56.12it/s, {'train_loss': array(0.27875608, dtype=float32), 'train_BinaryAccuracy': array(0.88772124, dtype=float32), 'train_BinaryPrecision': array(0., dtype=float32), 'val_loss': array(0.27800712, dtype=float32), 'val_BinaryAccuracy': array(0.88772124, dtype=float32), 'val_BinaryPrecision': array(0., dtype=float32)}]\n",
      "Train Processing: :  31%|███       | 9/29 [00:00<00:00, 87.64it/s]"
     ]
    },
    {
     "name": "stdout",
     "output_type": "stream",
     "text": [
      "Epoch 6/10\n"
     ]
    },
    {
     "name": "stderr",
     "output_type": "stream",
     "text": [
      "Train Processing: :  97%|█████████▋| 28/29 [00:00<00:00, 80.64it/s, {'train_loss': array(0.25669748, dtype=float32), 'train_BinaryAccuracy': array(0.88772124, dtype=float32), 'train_BinaryPrecision': array(0., dtype=float32), 'val_loss': array(0.25546417, dtype=float32), 'val_BinaryAccuracy': array(0.88772124, dtype=float32), 'val_BinaryPrecision': array(0., dtype=float32)}] \n",
      "Train Processing: :  48%|████▊     | 14/29 [00:00<00:00, 132.76it/s]"
     ]
    },
    {
     "name": "stdout",
     "output_type": "stream",
     "text": [
      "Epoch 7/10\n"
     ]
    },
    {
     "name": "stderr",
     "output_type": "stream",
     "text": [
      "Train Processing: :  97%|█████████▋| 28/29 [00:00<00:00, 94.69it/s, {'train_loss': array(0.23472816, dtype=float32), 'train_BinaryAccuracy': array(0.88772124, dtype=float32), 'train_BinaryPrecision': array(0., dtype=float32), 'val_loss': array(0.23276928, dtype=float32), 'val_BinaryAccuracy': array(0.88772124, dtype=float32), 'val_BinaryPrecision': array(0., dtype=float32)}] \n",
      "Train Processing: :  48%|████▊     | 14/29 [00:00<00:00, 133.09it/s]"
     ]
    },
    {
     "name": "stdout",
     "output_type": "stream",
     "text": [
      "Epoch 8/10\n"
     ]
    },
    {
     "name": "stderr",
     "output_type": "stream",
     "text": [
      "Train Processing: :  97%|█████████▋| 28/29 [00:00<00:00, 94.34it/s, {'train_loss': array(0.21408322, dtype=float32), 'train_BinaryAccuracy': array(0.88772124, dtype=float32), 'train_BinaryPrecision': array(0.5, dtype=float32), 'val_loss': array(0.21196374, dtype=float32), 'val_BinaryAccuracy': array(0.88772124, dtype=float32), 'val_BinaryPrecision': array(0.5, dtype=float32)}] \n",
      "Train Processing: :  45%|████▍     | 13/29 [00:00<00:00, 126.67it/s]"
     ]
    },
    {
     "name": "stdout",
     "output_type": "stream",
     "text": [
      "Epoch 9/10\n"
     ]
    },
    {
     "name": "stderr",
     "output_type": "stream",
     "text": [
      "Train Processing: :  97%|█████████▋| 28/29 [00:00<00:00, 92.94it/s, {'train_loss': array(0.20389754, dtype=float32), 'train_BinaryAccuracy': array(0.88993365, dtype=float32), 'train_BinaryPrecision': array(0.65384614, dtype=float32), 'val_loss': array(0.20265552, dtype=float32), 'val_BinaryAccuracy': array(0.89463496, dtype=float32), 'val_BinaryPrecision': array(0.6712329, dtype=float32)}] \n",
      "Train Processing: :  93%|█████████▎| 27/29 [00:00<00:00, 135.52it/s]"
     ]
    },
    {
     "name": "stdout",
     "output_type": "stream",
     "text": [
      "Epoch 10/10\n"
     ]
    },
    {
     "name": "stderr",
     "output_type": "stream",
     "text": [
      "Train Processing: :  97%|█████████▋| 28/29 [00:00<00:00, 91.75it/s, {'train_loss': array(0.20503603, dtype=float32), 'train_BinaryAccuracy': array(0.8960177, dtype=float32), 'train_BinaryPrecision': array(0.6119403, dtype=float32), 'val_loss': array(0.20301369, dtype=float32), 'val_BinaryAccuracy': array(0.89463496, dtype=float32), 'val_BinaryPrecision': array(0.56218904, dtype=float32)}] \n"
     ]
    }
   ],
   "source": [
    "# 训练模型\n",
    "history = sl_model.fit(\n",
    "    train_data, # X\n",
    "    train_label, # y\n",
    "    validation_data=(train_data, train_label), # 默认为None\n",
    "    # validation_data=(test_data, test_label),\n",
    "    epochs=10, # Number of epochs to train the model\n",
    "    batch_size=train_batch_size, # Number of samples per gradient update.\n",
    "    shuffle=False, # Whether shuffle dataset or not\n",
    "    # verbose=1,\n",
    "    validation_freq=1, # pecifies how many training epochs to run before a new validation run is performed\n",
    "    # dp_spent_step_freq=dp_spent_step_freq, # specifies how many training steps to check the budget of dp\n",
    "    # dataset_builder=dataset_buidler_dict, # Callable function, its input is x or [x, y] if y is set, it should return a dataset.\n",
    ")"
   ]
  },
  {
   "cell_type": "markdown",
   "metadata": {},
   "source": [
    "Let's visualize the training process"
   ]
  },
  {
   "cell_type": "code",
   "execution_count": 26,
   "metadata": {},
   "outputs": [
    {
     "data": {
      "image/png": "[encoded data removed]",
      "text/plain": [
       "<Figure size 640x480 with 1 Axes>"
      ]
     },
     "metadata": {},
     "output_type": "display_data"
    }
   ],
   "source": [
    "# Plot the change of loss during training\n",
    "plt.plot(history['train_loss'])\n",
    "plt.plot(history['val_loss'])\n",
    "plt.title('Model loss')\n",
    "plt.ylabel('Loss')\n",
    "plt.xlabel('Epoch')\n",
    "plt.legend(['Train', 'Val'], loc='upper right')\n",
    "plt.show()"
   ]
  },
  {
   "cell_type": "code",
   "execution_count": 27,
   "metadata": {},
   "outputs": [
    {
     "name": "stdout",
     "output_type": "stream",
     "text": [
      "dict_keys(['train_loss', 'train_BinaryAccuracy', 'train_BinaryPrecision', 'val_loss', 'val_BinaryAccuracy', 'val_BinaryPrecision'])\n"
     ]
    },
    {
     "data": {
      "image/png": "[encoded data removed]",
      "text/plain": [
       "<Figure size 640x480 with 1 Axes>"
      ]
     },
     "metadata": {},
     "output_type": "display_data"
    }
   ],
   "source": [
    "# Plot the change of accuracy during training\n",
    "print(history.keys())\n",
    "plt.plot(history['train_BinaryAccuracy'])\n",
    "plt.plot(history['val_BinaryAccuracy'])\n",
    "plt.title('Model accuracy')\n",
    "plt.ylabel('Accuracy')\n",
    "plt.xlabel('Epoch')\n",
    "plt.legend(['Train', 'Val'], loc='upper left')\n",
    "plt.show()"
   ]
  },
  {
   "cell_type": "markdown",
   "metadata": {},
   "source": [
    "Let's call the evaluation function"
   ]
  },
  {
   "cell_type": "code",
   "execution_count": null,
   "metadata": {},
   "outputs": [
    {
     "name": "stderr",
     "output_type": "stream",
     "text": [
      "Evaluate Processing: :  88%|████████▊ | 7/8 [00:00<00:00, 83.64it/s, loss=0.18115152, BinaryAccuracy=0.878453, BinaryPrecision=0.5609756]\n"
     ]
    }
   ],
   "source": [
    "global_metric = sl_model.evaluate(test_data, test_label, batch_size=128)    "
   ]
  },
  {
   "cell_type": "markdown",
   "metadata": {},
   "source": [
    "## Compare to local model （以下并未转换为Torch，可以不用跑）"
   ]
  },
  {
   "cell_type": "markdown",
   "metadata": {},
   "source": [
    "#### Model  \n",
    "Here, we use the same model structure as the one used in the split learning example, but only the model structure for Alice is used in this case. The code for defining the model is shown below.  \n",
    "#### Data  \n",
    "The data also use kaggle's anti-fraud data. Here, we just use Alice's data of the new bank.  \n",
    "1. The total sample size was 11162, including 8929 training set and 2233 test set.  \n",
    "2. The feature dimension is 4.  "
   ]
  },
  {
   "cell_type": "code",
   "execution_count": 29,
   "metadata": {},
   "outputs": [],
   "source": [
    "from tensorflow import keras\n",
    "from tensorflow.keras import layers\n",
    "import tensorflow as tf\n",
    "from sklearn.model_selection import train_test_split\n",
    "\n",
    "\n",
    "def create_model():\n",
    "    model = keras.Sequential(\n",
    "        [\n",
    "            keras.Input(shape=4),\n",
    "            layers.Dense(100, activation=\"relu\"),\n",
    "            layers.Dense(64, activation='relu'),\n",
    "            layers.Dense(64, activation='relu'),\n",
    "            layers.Dense(1, activation='sigmoid'),\n",
    "        ]\n",
    "    )\n",
    "    model.compile(\n",
    "        loss='binary_crossentropy',\n",
    "        optimizer='adam',\n",
    "        metrics=[\"accuracy\", tf.keras.metrics.AUC()],\n",
    "    )\n",
    "    return model\n",
    "\n",
    "\n",
    "single_model = create_model()"
   ]
  },
  {
   "cell_type": "markdown",
   "metadata": {},
   "source": [
    "Data process"
   ]
  },
  {
   "cell_type": "code",
   "execution_count": 30,
   "metadata": {},
   "outputs": [],
   "source": [
    "import pandas as pd\n",
    "from sklearn.model_selection import train_test_split\n",
    "from sklearn.preprocessing import MinMaxScaler\n",
    "from sklearn.preprocessing import LabelEncoder\n",
    "\n",
    "encoder = LabelEncoder()\n",
    "single_part_data = alice_data.copy()\n",
    "\n",
    "single_part_data['job'] = encoder.fit_transform(alice_data['job'])\n",
    "single_part_data['marital'] = encoder.fit_transform(alice_data['marital'])\n",
    "single_part_data['education'] = encoder.fit_transform(alice_data['education'])\n",
    "single_part_data['y'] = encoder.fit_transform(alice_data['y'])"
   ]
  },
  {
   "cell_type": "code",
   "execution_count": 31,
   "metadata": {},
   "outputs": [],
   "source": [
    "y = single_part_data['y']\n",
    "alice_data = single_part_data.drop(columns=['y'], inplace=False)"
   ]
  },
  {
   "cell_type": "code",
   "execution_count": 32,
   "metadata": {},
   "outputs": [],
   "source": [
    "scaler = MinMaxScaler()\n",
    "alice_data = scaler.fit_transform(alice_data)"
   ]
  },
  {
   "cell_type": "code",
   "execution_count": 33,
   "metadata": {},
   "outputs": [],
   "source": [
    "train_data, test_data = train_test_split(\n",
    "    alice_data, train_size=0.8, random_state=random_state\n",
    ")\n",
    "train_label, test_label = train_test_split(y, train_size=0.8, random_state=random_state)"
   ]
  },
  {
   "cell_type": "code",
   "execution_count": 34,
   "metadata": {},
   "outputs": [
    {
     "data": {
      "text/plain": [
       "(4521, 4)"
      ]
     },
     "execution_count": 34,
     "metadata": {},
     "output_type": "execute_result"
    }
   ],
   "source": [
    "alice_data.shape"
   ]
  },
  {
   "cell_type": "code",
   "execution_count": 35,
   "metadata": {},
   "outputs": [
    {
     "name": "stdout",
     "output_type": "stream",
     "text": [
      "Epoch 1/10\n",
      "29/29 [==============================] - 1s 16ms/step - loss: 0.5262 - accuracy: 0.8117 - auc_3: 0.4541 - val_loss: 0.3993 - val_accuracy: 0.8729 - val_auc_3: 0.4250\n",
      "Epoch 2/10\n",
      "29/29 [==============================] - 0s 6ms/step - loss: 0.3705 - accuracy: 0.8877 - auc_3: 0.4579 - val_loss: 0.3963 - val_accuracy: 0.8729 - val_auc_3: 0.4202\n",
      "Epoch 3/10\n",
      "29/29 [==============================] - 0s 6ms/step - loss: 0.3656 - accuracy: 0.8877 - auc_3: 0.4375 - val_loss: 0.3928 - val_accuracy: 0.8729 - val_auc_3: 0.4218\n",
      "Epoch 4/10\n",
      "29/29 [==============================] - 0s 6ms/step - loss: 0.3610 - accuracy: 0.8877 - auc_3: 0.4461 - val_loss: 0.3899 - val_accuracy: 0.8729 - val_auc_3: 0.4263\n",
      "Epoch 5/10\n",
      "29/29 [==============================] - 0s 6ms/step - loss: 0.3595 - accuracy: 0.8877 - auc_3: 0.4520 - val_loss: 0.3876 - val_accuracy: 0.8729 - val_auc_3: 0.4432\n",
      "Epoch 6/10\n",
      "29/29 [==============================] - 0s 6ms/step - loss: 0.3579 - accuracy: 0.8877 - auc_3: 0.4644 - val_loss: 0.3857 - val_accuracy: 0.8729 - val_auc_3: 0.4592\n",
      "Epoch 7/10\n",
      "29/29 [==============================] - 0s 6ms/step - loss: 0.3564 - accuracy: 0.8877 - auc_3: 0.4748 - val_loss: 0.3838 - val_accuracy: 0.8729 - val_auc_3: 0.4908\n",
      "Epoch 8/10\n",
      "29/29 [==============================] - 0s 6ms/step - loss: 0.3550 - accuracy: 0.8877 - auc_3: 0.4911 - val_loss: 0.3821 - val_accuracy: 0.8729 - val_auc_3: 0.5128\n",
      "Epoch 9/10\n",
      "29/29 [==============================] - 0s 6ms/step - loss: 0.3537 - accuracy: 0.8877 - auc_3: 0.5080 - val_loss: 0.3805 - val_accuracy: 0.8729 - val_auc_3: 0.5361\n",
      "Epoch 10/10\n",
      "29/29 [==============================] - 0s 6ms/step - loss: 0.3525 - accuracy: 0.8877 - auc_3: 0.5224 - val_loss: 0.3791 - val_accuracy: 0.8729 - val_auc_3: 0.5568\n"
     ]
    },
    {
     "data": {
      "text/plain": [
       "<keras.callbacks.History at 0x7faa087658d0>"
      ]
     },
     "execution_count": 35,
     "metadata": {},
     "output_type": "execute_result"
    }
   ],
   "source": [
    "single_model.fit(\n",
    "    train_data,\n",
    "    train_label,\n",
    "    validation_data=(test_data, test_label),\n",
    "    batch_size=128,\n",
    "    epochs=10,\n",
    "    shuffle=False,\n",
    ")"
   ]
  },
  {
   "cell_type": "code",
   "execution_count": 36,
   "metadata": {},
   "outputs": [
    {
     "name": "stdout",
     "output_type": "stream",
     "text": [
      "8/8 [==============================] - 0s 3ms/step - loss: 0.3791 - accuracy: 0.8729 - auc_3: 0.5568\n"
     ]
    },
    {
     "data": {
      "text/plain": [
       "[0.37905651330947876, 0.8729282021522522, 0.5568134188652039]"
      ]
     },
     "execution_count": 36,
     "metadata": {},
     "output_type": "execute_result"
    }
   ],
   "source": [
    "single_model.evaluate(test_data, test_label, batch_size=128)"
   ]
  },
  {
   "cell_type": "markdown",
   "metadata": {},
   "source": [
    "### Summary\n",
    "The above two experiments simulate a typical vertical scene training problem. Alice and Bob have the same sample group, but each side has only a part of the features. If Alice only uses her own data to train the model, an accuracy of **0.872**, AUC **0.53** model can be obtained. However, if Bob's data are combined, a model with an accuracy of **0.875**  and AUC **0.885** can be obtained."
   ]
  },
  {
   "cell_type": "markdown",
   "metadata": {},
   "source": [
    "## Conclusion"
   ]
  },
  {
   "cell_type": "markdown",
   "metadata": {},
   "source": [
    "* This tutorial introduces what is split learning and how to do it in secretFlow.  \n",
    "* It can be seen from the experimental data that split learning has significant advantages in expanding sample dimension and improving model effect through joint multi-party training.\n",
    "* This tutorial uses plaintext aggregation to demonstrate, without considering the leakage problem of hidden layer. Secretflow provides AggLayer to avoid the leakage problem of hidden layer plaintext transmission through MPC,TEE,HE, and DP. If you are interested, please refer to relevant documents.\n",
    "* Next, you may want to try different data sets, you need to vertically shard the data first and then follow the flow of this tutorial.\n"
   ]
  }
 ],
 "metadata": {
  "kernelspec": {
   "display_name": "drj-sf",
   "language": "python",
   "name": "python3"
  },
  "language_info": {
   "codemirror_mode": {
    "name": "ipython",
    "version": 3
   },
   "file_extension": ".py",
   "mimetype": "text/x-python",
   "name": "python",
   "nbconvert_exporter": "python",
   "pygments_lexer": "ipython3",
   "version": "3.10.14"
  }
 },
 "nbformat": 4,
 "nbformat_minor": 4
}
